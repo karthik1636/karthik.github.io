{
  "cells": [
    {
      "cell_type": "markdown",
      "metadata": {
        "id": "view-in-github",
        "colab_type": "text"
      },
      "source": [
        "<a href=\"https://colab.research.google.com/github/karthik1636/karthik.github.io/blob/main/Transformer_Tweets_Data.ipynb\" target=\"_parent\"><img src=\"https://colab.research.google.com/assets/colab-badge.svg\" alt=\"Open In Colab\"/></a>"
      ]
    },
    {
      "cell_type": "code",
      "source": [
        "!nvidia-smi"
      ],
      "metadata": {
        "colab": {
          "base_uri": "https://localhost:8080/"
        },
        "id": "hiH28FoPCNW-",
        "outputId": "a4382d8a-c470-4af2-f7a4-0fae5ac0948f"
      },
      "execution_count": 1,
      "outputs": [
        {
          "output_type": "stream",
          "name": "stdout",
          "text": [
            "Sun Apr 14 19:15:49 2024       \n",
            "+---------------------------------------------------------------------------------------+\n",
            "| NVIDIA-SMI 535.104.05             Driver Version: 535.104.05   CUDA Version: 12.2     |\n",
            "|-----------------------------------------+----------------------+----------------------+\n",
            "| GPU  Name                 Persistence-M | Bus-Id        Disp.A | Volatile Uncorr. ECC |\n",
            "| Fan  Temp   Perf          Pwr:Usage/Cap |         Memory-Usage | GPU-Util  Compute M. |\n",
            "|                                         |                      |               MIG M. |\n",
            "|=========================================+======================+======================|\n",
            "|   0  Tesla V100-SXM2-16GB           Off | 00000000:00:04.0 Off |                    0 |\n",
            "| N/A   34C    P0              23W / 300W |      0MiB / 16384MiB |      0%      Default |\n",
            "|                                         |                      |                  N/A |\n",
            "+-----------------------------------------+----------------------+----------------------+\n",
            "                                                                                         \n",
            "+---------------------------------------------------------------------------------------+\n",
            "| Processes:                                                                            |\n",
            "|  GPU   GI   CI        PID   Type   Process name                            GPU Memory |\n",
            "|        ID   ID                                                             Usage      |\n",
            "|=======================================================================================|\n",
            "|  No running processes found                                                           |\n",
            "+---------------------------------------------------------------------------------------+\n"
          ]
        }
      ]
    },
    {
      "cell_type": "code",
      "execution_count": 2,
      "metadata": {
        "id": "3gWw8LxaMaT-"
      },
      "outputs": [],
      "source": [
        "import tensorflow as tf\n",
        "from tensorflow import keras\n",
        "from tensorflow.keras.models import Sequential\n",
        "from tensorflow.keras.layers import *\n",
        "from tensorflow.keras.regularizers import L1, L2\n",
        "from keras.callbacks import EarlyStopping\n",
        "from tensorflow.keras.preprocessing.text import Tokenizer\n",
        "from tensorflow.keras.preprocessing.sequence import pad_sequences\n",
        "from tensorflow.keras.models import Sequential\n",
        "from tensorflow.keras import Model\n",
        "\n",
        "import json\n",
        "import pandas as pd\n",
        "import numpy as np\n",
        "import matplotlib.pyplot as plt\n",
        "from sklearn.model_selection import train_test_split\n",
        "from sklearn.preprocessing import LabelEncoder\n",
        "from sklearn.metrics import confusion_matrix, classification_report\n",
        "import seaborn as sns"
      ]
    },
    {
      "cell_type": "code",
      "execution_count": 16,
      "metadata": {
        "colab": {
          "base_uri": "https://localhost:8080/",
          "height": 206
        },
        "id": "2mLMc1_6Mnij",
        "outputId": "7cff12be-0905-4b7e-984c-70c2d4cf5b8f"
      },
      "outputs": [
        {
          "output_type": "execute_result",
          "data": {
            "text/plain": [
              "                                                text  Emotion\n",
              "0       awww bummer shoulda got david carr third day        0\n",
              "1  upset update facebook texting might cry result...        0\n",
              "2  dived many times ball managed save 50 rest go ...        0\n",
              "3                   whole body feels itchy like fire        0\n",
              "4                                   behaving mad see        0"
            ],
            "text/html": [
              "\n",
              "  <div id=\"df-901545a7-2ee8-4665-b513-f19b04b35b01\" class=\"colab-df-container\">\n",
              "    <div>\n",
              "<style scoped>\n",
              "    .dataframe tbody tr th:only-of-type {\n",
              "        vertical-align: middle;\n",
              "    }\n",
              "\n",
              "    .dataframe tbody tr th {\n",
              "        vertical-align: top;\n",
              "    }\n",
              "\n",
              "    .dataframe thead th {\n",
              "        text-align: right;\n",
              "    }\n",
              "</style>\n",
              "<table border=\"1\" class=\"dataframe\">\n",
              "  <thead>\n",
              "    <tr style=\"text-align: right;\">\n",
              "      <th></th>\n",
              "      <th>text</th>\n",
              "      <th>Emotion</th>\n",
              "    </tr>\n",
              "  </thead>\n",
              "  <tbody>\n",
              "    <tr>\n",
              "      <th>0</th>\n",
              "      <td>awww bummer shoulda got david carr third day</td>\n",
              "      <td>0</td>\n",
              "    </tr>\n",
              "    <tr>\n",
              "      <th>1</th>\n",
              "      <td>upset update facebook texting might cry result...</td>\n",
              "      <td>0</td>\n",
              "    </tr>\n",
              "    <tr>\n",
              "      <th>2</th>\n",
              "      <td>dived many times ball managed save 50 rest go ...</td>\n",
              "      <td>0</td>\n",
              "    </tr>\n",
              "    <tr>\n",
              "      <th>3</th>\n",
              "      <td>whole body feels itchy like fire</td>\n",
              "      <td>0</td>\n",
              "    </tr>\n",
              "    <tr>\n",
              "      <th>4</th>\n",
              "      <td>behaving mad see</td>\n",
              "      <td>0</td>\n",
              "    </tr>\n",
              "  </tbody>\n",
              "</table>\n",
              "</div>\n",
              "    <div class=\"colab-df-buttons\">\n",
              "\n",
              "  <div class=\"colab-df-container\">\n",
              "    <button class=\"colab-df-convert\" onclick=\"convertToInteractive('df-901545a7-2ee8-4665-b513-f19b04b35b01')\"\n",
              "            title=\"Convert this dataframe to an interactive table.\"\n",
              "            style=\"display:none;\">\n",
              "\n",
              "  <svg xmlns=\"http://www.w3.org/2000/svg\" height=\"24px\" viewBox=\"0 -960 960 960\">\n",
              "    <path d=\"M120-120v-720h720v720H120Zm60-500h600v-160H180v160Zm220 220h160v-160H400v160Zm0 220h160v-160H400v160ZM180-400h160v-160H180v160Zm440 0h160v-160H620v160ZM180-180h160v-160H180v160Zm440 0h160v-160H620v160Z\"/>\n",
              "  </svg>\n",
              "    </button>\n",
              "\n",
              "  <style>\n",
              "    .colab-df-container {\n",
              "      display:flex;\n",
              "      gap: 12px;\n",
              "    }\n",
              "\n",
              "    .colab-df-convert {\n",
              "      background-color: #E8F0FE;\n",
              "      border: none;\n",
              "      border-radius: 50%;\n",
              "      cursor: pointer;\n",
              "      display: none;\n",
              "      fill: #1967D2;\n",
              "      height: 32px;\n",
              "      padding: 0 0 0 0;\n",
              "      width: 32px;\n",
              "    }\n",
              "\n",
              "    .colab-df-convert:hover {\n",
              "      background-color: #E2EBFA;\n",
              "      box-shadow: 0px 1px 2px rgba(60, 64, 67, 0.3), 0px 1px 3px 1px rgba(60, 64, 67, 0.15);\n",
              "      fill: #174EA6;\n",
              "    }\n",
              "\n",
              "    .colab-df-buttons div {\n",
              "      margin-bottom: 4px;\n",
              "    }\n",
              "\n",
              "    [theme=dark] .colab-df-convert {\n",
              "      background-color: #3B4455;\n",
              "      fill: #D2E3FC;\n",
              "    }\n",
              "\n",
              "    [theme=dark] .colab-df-convert:hover {\n",
              "      background-color: #434B5C;\n",
              "      box-shadow: 0px 1px 3px 1px rgba(0, 0, 0, 0.15);\n",
              "      filter: drop-shadow(0px 1px 2px rgba(0, 0, 0, 0.3));\n",
              "      fill: #FFFFFF;\n",
              "    }\n",
              "  </style>\n",
              "\n",
              "    <script>\n",
              "      const buttonEl =\n",
              "        document.querySelector('#df-901545a7-2ee8-4665-b513-f19b04b35b01 button.colab-df-convert');\n",
              "      buttonEl.style.display =\n",
              "        google.colab.kernel.accessAllowed ? 'block' : 'none';\n",
              "\n",
              "      async function convertToInteractive(key) {\n",
              "        const element = document.querySelector('#df-901545a7-2ee8-4665-b513-f19b04b35b01');\n",
              "        const dataTable =\n",
              "          await google.colab.kernel.invokeFunction('convertToInteractive',\n",
              "                                                    [key], {});\n",
              "        if (!dataTable) return;\n",
              "\n",
              "        const docLinkHtml = 'Like what you see? Visit the ' +\n",
              "          '<a target=\"_blank\" href=https://colab.research.google.com/notebooks/data_table.ipynb>data table notebook</a>'\n",
              "          + ' to learn more about interactive tables.';\n",
              "        element.innerHTML = '';\n",
              "        dataTable['output_type'] = 'display_data';\n",
              "        await google.colab.output.renderOutput(dataTable, element);\n",
              "        const docLink = document.createElement('div');\n",
              "        docLink.innerHTML = docLinkHtml;\n",
              "        element.appendChild(docLink);\n",
              "      }\n",
              "    </script>\n",
              "  </div>\n",
              "\n",
              "\n",
              "<div id=\"df-4e4d2318-5539-4dfa-91e1-90072632211c\">\n",
              "  <button class=\"colab-df-quickchart\" onclick=\"quickchart('df-4e4d2318-5539-4dfa-91e1-90072632211c')\"\n",
              "            title=\"Suggest charts\"\n",
              "            style=\"display:none;\">\n",
              "\n",
              "<svg xmlns=\"http://www.w3.org/2000/svg\" height=\"24px\"viewBox=\"0 0 24 24\"\n",
              "     width=\"24px\">\n",
              "    <g>\n",
              "        <path d=\"M19 3H5c-1.1 0-2 .9-2 2v14c0 1.1.9 2 2 2h14c1.1 0 2-.9 2-2V5c0-1.1-.9-2-2-2zM9 17H7v-7h2v7zm4 0h-2V7h2v10zm4 0h-2v-4h2v4z\"/>\n",
              "    </g>\n",
              "</svg>\n",
              "  </button>\n",
              "\n",
              "<style>\n",
              "  .colab-df-quickchart {\n",
              "      --bg-color: #E8F0FE;\n",
              "      --fill-color: #1967D2;\n",
              "      --hover-bg-color: #E2EBFA;\n",
              "      --hover-fill-color: #174EA6;\n",
              "      --disabled-fill-color: #AAA;\n",
              "      --disabled-bg-color: #DDD;\n",
              "  }\n",
              "\n",
              "  [theme=dark] .colab-df-quickchart {\n",
              "      --bg-color: #3B4455;\n",
              "      --fill-color: #D2E3FC;\n",
              "      --hover-bg-color: #434B5C;\n",
              "      --hover-fill-color: #FFFFFF;\n",
              "      --disabled-bg-color: #3B4455;\n",
              "      --disabled-fill-color: #666;\n",
              "  }\n",
              "\n",
              "  .colab-df-quickchart {\n",
              "    background-color: var(--bg-color);\n",
              "    border: none;\n",
              "    border-radius: 50%;\n",
              "    cursor: pointer;\n",
              "    display: none;\n",
              "    fill: var(--fill-color);\n",
              "    height: 32px;\n",
              "    padding: 0;\n",
              "    width: 32px;\n",
              "  }\n",
              "\n",
              "  .colab-df-quickchart:hover {\n",
              "    background-color: var(--hover-bg-color);\n",
              "    box-shadow: 0 1px 2px rgba(60, 64, 67, 0.3), 0 1px 3px 1px rgba(60, 64, 67, 0.15);\n",
              "    fill: var(--button-hover-fill-color);\n",
              "  }\n",
              "\n",
              "  .colab-df-quickchart-complete:disabled,\n",
              "  .colab-df-quickchart-complete:disabled:hover {\n",
              "    background-color: var(--disabled-bg-color);\n",
              "    fill: var(--disabled-fill-color);\n",
              "    box-shadow: none;\n",
              "  }\n",
              "\n",
              "  .colab-df-spinner {\n",
              "    border: 2px solid var(--fill-color);\n",
              "    border-color: transparent;\n",
              "    border-bottom-color: var(--fill-color);\n",
              "    animation:\n",
              "      spin 1s steps(1) infinite;\n",
              "  }\n",
              "\n",
              "  @keyframes spin {\n",
              "    0% {\n",
              "      border-color: transparent;\n",
              "      border-bottom-color: var(--fill-color);\n",
              "      border-left-color: var(--fill-color);\n",
              "    }\n",
              "    20% {\n",
              "      border-color: transparent;\n",
              "      border-left-color: var(--fill-color);\n",
              "      border-top-color: var(--fill-color);\n",
              "    }\n",
              "    30% {\n",
              "      border-color: transparent;\n",
              "      border-left-color: var(--fill-color);\n",
              "      border-top-color: var(--fill-color);\n",
              "      border-right-color: var(--fill-color);\n",
              "    }\n",
              "    40% {\n",
              "      border-color: transparent;\n",
              "      border-right-color: var(--fill-color);\n",
              "      border-top-color: var(--fill-color);\n",
              "    }\n",
              "    60% {\n",
              "      border-color: transparent;\n",
              "      border-right-color: var(--fill-color);\n",
              "    }\n",
              "    80% {\n",
              "      border-color: transparent;\n",
              "      border-right-color: var(--fill-color);\n",
              "      border-bottom-color: var(--fill-color);\n",
              "    }\n",
              "    90% {\n",
              "      border-color: transparent;\n",
              "      border-bottom-color: var(--fill-color);\n",
              "    }\n",
              "  }\n",
              "</style>\n",
              "\n",
              "  <script>\n",
              "    async function quickchart(key) {\n",
              "      const quickchartButtonEl =\n",
              "        document.querySelector('#' + key + ' button');\n",
              "      quickchartButtonEl.disabled = true;  // To prevent multiple clicks.\n",
              "      quickchartButtonEl.classList.add('colab-df-spinner');\n",
              "      try {\n",
              "        const charts = await google.colab.kernel.invokeFunction(\n",
              "            'suggestCharts', [key], {});\n",
              "      } catch (error) {\n",
              "        console.error('Error during call to suggestCharts:', error);\n",
              "      }\n",
              "      quickchartButtonEl.classList.remove('colab-df-spinner');\n",
              "      quickchartButtonEl.classList.add('colab-df-quickchart-complete');\n",
              "    }\n",
              "    (() => {\n",
              "      let quickchartButtonEl =\n",
              "        document.querySelector('#df-4e4d2318-5539-4dfa-91e1-90072632211c button');\n",
              "      quickchartButtonEl.style.display =\n",
              "        google.colab.kernel.accessAllowed ? 'block' : 'none';\n",
              "    })();\n",
              "  </script>\n",
              "</div>\n",
              "\n",
              "    </div>\n",
              "  </div>\n"
            ],
            "application/vnd.google.colaboratory.intrinsic+json": {
              "type": "dataframe",
              "variable_name": "df"
            }
          },
          "metadata": {},
          "execution_count": 16
        }
      ],
      "source": [
        "df = pd.read_csv('emotion_dataset.csv')\n",
        "df = df.drop_duplicates()\n",
        "df = df.dropna()\n",
        "df.head()\n"
      ]
    },
    {
      "cell_type": "code",
      "execution_count": 17,
      "metadata": {
        "colab": {
          "base_uri": "https://localhost:8080/",
          "height": 423
        },
        "id": "viKxjJ-BBRac",
        "outputId": "627fff0f-fa38-44b4-cd4b-163261469cd2"
      },
      "outputs": [
        {
          "output_type": "execute_result",
          "data": {
            "text/plain": [
              "                                                      text  Emotion\n",
              "0             awww bummer shoulda got david carr third day        0\n",
              "1        upset update facebook texting might cry result...        0\n",
              "2        dived many times ball managed save 50 rest go ...        0\n",
              "3                         whole body feels itchy like fire        0\n",
              "4                                         behaving mad see        0\n",
              "...                                                    ...      ...\n",
              "1599995                      woke school best feeling ever        4\n",
              "1599996           thewdb com cool hear old walt interviews        4\n",
              "1599997                    ready mojo makeover ask details        4\n",
              "1599998  happy 38th birthday boo alll time tupac amaru ...        4\n",
              "1599999  happy charitytuesday thenspcc sparkscharity sp...        4\n",
              "\n",
              "[1489715 rows x 2 columns]"
            ],
            "text/html": [
              "\n",
              "  <div id=\"df-00a1ecac-f535-44de-87cd-fd80ad32e675\" class=\"colab-df-container\">\n",
              "    <div>\n",
              "<style scoped>\n",
              "    .dataframe tbody tr th:only-of-type {\n",
              "        vertical-align: middle;\n",
              "    }\n",
              "\n",
              "    .dataframe tbody tr th {\n",
              "        vertical-align: top;\n",
              "    }\n",
              "\n",
              "    .dataframe thead th {\n",
              "        text-align: right;\n",
              "    }\n",
              "</style>\n",
              "<table border=\"1\" class=\"dataframe\">\n",
              "  <thead>\n",
              "    <tr style=\"text-align: right;\">\n",
              "      <th></th>\n",
              "      <th>text</th>\n",
              "      <th>Emotion</th>\n",
              "    </tr>\n",
              "  </thead>\n",
              "  <tbody>\n",
              "    <tr>\n",
              "      <th>0</th>\n",
              "      <td>awww bummer shoulda got david carr third day</td>\n",
              "      <td>0</td>\n",
              "    </tr>\n",
              "    <tr>\n",
              "      <th>1</th>\n",
              "      <td>upset update facebook texting might cry result...</td>\n",
              "      <td>0</td>\n",
              "    </tr>\n",
              "    <tr>\n",
              "      <th>2</th>\n",
              "      <td>dived many times ball managed save 50 rest go ...</td>\n",
              "      <td>0</td>\n",
              "    </tr>\n",
              "    <tr>\n",
              "      <th>3</th>\n",
              "      <td>whole body feels itchy like fire</td>\n",
              "      <td>0</td>\n",
              "    </tr>\n",
              "    <tr>\n",
              "      <th>4</th>\n",
              "      <td>behaving mad see</td>\n",
              "      <td>0</td>\n",
              "    </tr>\n",
              "    <tr>\n",
              "      <th>...</th>\n",
              "      <td>...</td>\n",
              "      <td>...</td>\n",
              "    </tr>\n",
              "    <tr>\n",
              "      <th>1599995</th>\n",
              "      <td>woke school best feeling ever</td>\n",
              "      <td>4</td>\n",
              "    </tr>\n",
              "    <tr>\n",
              "      <th>1599996</th>\n",
              "      <td>thewdb com cool hear old walt interviews</td>\n",
              "      <td>4</td>\n",
              "    </tr>\n",
              "    <tr>\n",
              "      <th>1599997</th>\n",
              "      <td>ready mojo makeover ask details</td>\n",
              "      <td>4</td>\n",
              "    </tr>\n",
              "    <tr>\n",
              "      <th>1599998</th>\n",
              "      <td>happy 38th birthday boo alll time tupac amaru ...</td>\n",
              "      <td>4</td>\n",
              "    </tr>\n",
              "    <tr>\n",
              "      <th>1599999</th>\n",
              "      <td>happy charitytuesday thenspcc sparkscharity sp...</td>\n",
              "      <td>4</td>\n",
              "    </tr>\n",
              "  </tbody>\n",
              "</table>\n",
              "<p>1489715 rows × 2 columns</p>\n",
              "</div>\n",
              "    <div class=\"colab-df-buttons\">\n",
              "\n",
              "  <div class=\"colab-df-container\">\n",
              "    <button class=\"colab-df-convert\" onclick=\"convertToInteractive('df-00a1ecac-f535-44de-87cd-fd80ad32e675')\"\n",
              "            title=\"Convert this dataframe to an interactive table.\"\n",
              "            style=\"display:none;\">\n",
              "\n",
              "  <svg xmlns=\"http://www.w3.org/2000/svg\" height=\"24px\" viewBox=\"0 -960 960 960\">\n",
              "    <path d=\"M120-120v-720h720v720H120Zm60-500h600v-160H180v160Zm220 220h160v-160H400v160Zm0 220h160v-160H400v160ZM180-400h160v-160H180v160Zm440 0h160v-160H620v160ZM180-180h160v-160H180v160Zm440 0h160v-160H620v160Z\"/>\n",
              "  </svg>\n",
              "    </button>\n",
              "\n",
              "  <style>\n",
              "    .colab-df-container {\n",
              "      display:flex;\n",
              "      gap: 12px;\n",
              "    }\n",
              "\n",
              "    .colab-df-convert {\n",
              "      background-color: #E8F0FE;\n",
              "      border: none;\n",
              "      border-radius: 50%;\n",
              "      cursor: pointer;\n",
              "      display: none;\n",
              "      fill: #1967D2;\n",
              "      height: 32px;\n",
              "      padding: 0 0 0 0;\n",
              "      width: 32px;\n",
              "    }\n",
              "\n",
              "    .colab-df-convert:hover {\n",
              "      background-color: #E2EBFA;\n",
              "      box-shadow: 0px 1px 2px rgba(60, 64, 67, 0.3), 0px 1px 3px 1px rgba(60, 64, 67, 0.15);\n",
              "      fill: #174EA6;\n",
              "    }\n",
              "\n",
              "    .colab-df-buttons div {\n",
              "      margin-bottom: 4px;\n",
              "    }\n",
              "\n",
              "    [theme=dark] .colab-df-convert {\n",
              "      background-color: #3B4455;\n",
              "      fill: #D2E3FC;\n",
              "    }\n",
              "\n",
              "    [theme=dark] .colab-df-convert:hover {\n",
              "      background-color: #434B5C;\n",
              "      box-shadow: 0px 1px 3px 1px rgba(0, 0, 0, 0.15);\n",
              "      filter: drop-shadow(0px 1px 2px rgba(0, 0, 0, 0.3));\n",
              "      fill: #FFFFFF;\n",
              "    }\n",
              "  </style>\n",
              "\n",
              "    <script>\n",
              "      const buttonEl =\n",
              "        document.querySelector('#df-00a1ecac-f535-44de-87cd-fd80ad32e675 button.colab-df-convert');\n",
              "      buttonEl.style.display =\n",
              "        google.colab.kernel.accessAllowed ? 'block' : 'none';\n",
              "\n",
              "      async function convertToInteractive(key) {\n",
              "        const element = document.querySelector('#df-00a1ecac-f535-44de-87cd-fd80ad32e675');\n",
              "        const dataTable =\n",
              "          await google.colab.kernel.invokeFunction('convertToInteractive',\n",
              "                                                    [key], {});\n",
              "        if (!dataTable) return;\n",
              "\n",
              "        const docLinkHtml = 'Like what you see? Visit the ' +\n",
              "          '<a target=\"_blank\" href=https://colab.research.google.com/notebooks/data_table.ipynb>data table notebook</a>'\n",
              "          + ' to learn more about interactive tables.';\n",
              "        element.innerHTML = '';\n",
              "        dataTable['output_type'] = 'display_data';\n",
              "        await google.colab.output.renderOutput(dataTable, element);\n",
              "        const docLink = document.createElement('div');\n",
              "        docLink.innerHTML = docLinkHtml;\n",
              "        element.appendChild(docLink);\n",
              "      }\n",
              "    </script>\n",
              "  </div>\n",
              "\n",
              "\n",
              "<div id=\"df-e09dd3aa-9d2c-4856-bfe2-cd56b863e3c7\">\n",
              "  <button class=\"colab-df-quickchart\" onclick=\"quickchart('df-e09dd3aa-9d2c-4856-bfe2-cd56b863e3c7')\"\n",
              "            title=\"Suggest charts\"\n",
              "            style=\"display:none;\">\n",
              "\n",
              "<svg xmlns=\"http://www.w3.org/2000/svg\" height=\"24px\"viewBox=\"0 0 24 24\"\n",
              "     width=\"24px\">\n",
              "    <g>\n",
              "        <path d=\"M19 3H5c-1.1 0-2 .9-2 2v14c0 1.1.9 2 2 2h14c1.1 0 2-.9 2-2V5c0-1.1-.9-2-2-2zM9 17H7v-7h2v7zm4 0h-2V7h2v10zm4 0h-2v-4h2v4z\"/>\n",
              "    </g>\n",
              "</svg>\n",
              "  </button>\n",
              "\n",
              "<style>\n",
              "  .colab-df-quickchart {\n",
              "      --bg-color: #E8F0FE;\n",
              "      --fill-color: #1967D2;\n",
              "      --hover-bg-color: #E2EBFA;\n",
              "      --hover-fill-color: #174EA6;\n",
              "      --disabled-fill-color: #AAA;\n",
              "      --disabled-bg-color: #DDD;\n",
              "  }\n",
              "\n",
              "  [theme=dark] .colab-df-quickchart {\n",
              "      --bg-color: #3B4455;\n",
              "      --fill-color: #D2E3FC;\n",
              "      --hover-bg-color: #434B5C;\n",
              "      --hover-fill-color: #FFFFFF;\n",
              "      --disabled-bg-color: #3B4455;\n",
              "      --disabled-fill-color: #666;\n",
              "  }\n",
              "\n",
              "  .colab-df-quickchart {\n",
              "    background-color: var(--bg-color);\n",
              "    border: none;\n",
              "    border-radius: 50%;\n",
              "    cursor: pointer;\n",
              "    display: none;\n",
              "    fill: var(--fill-color);\n",
              "    height: 32px;\n",
              "    padding: 0;\n",
              "    width: 32px;\n",
              "  }\n",
              "\n",
              "  .colab-df-quickchart:hover {\n",
              "    background-color: var(--hover-bg-color);\n",
              "    box-shadow: 0 1px 2px rgba(60, 64, 67, 0.3), 0 1px 3px 1px rgba(60, 64, 67, 0.15);\n",
              "    fill: var(--button-hover-fill-color);\n",
              "  }\n",
              "\n",
              "  .colab-df-quickchart-complete:disabled,\n",
              "  .colab-df-quickchart-complete:disabled:hover {\n",
              "    background-color: var(--disabled-bg-color);\n",
              "    fill: var(--disabled-fill-color);\n",
              "    box-shadow: none;\n",
              "  }\n",
              "\n",
              "  .colab-df-spinner {\n",
              "    border: 2px solid var(--fill-color);\n",
              "    border-color: transparent;\n",
              "    border-bottom-color: var(--fill-color);\n",
              "    animation:\n",
              "      spin 1s steps(1) infinite;\n",
              "  }\n",
              "\n",
              "  @keyframes spin {\n",
              "    0% {\n",
              "      border-color: transparent;\n",
              "      border-bottom-color: var(--fill-color);\n",
              "      border-left-color: var(--fill-color);\n",
              "    }\n",
              "    20% {\n",
              "      border-color: transparent;\n",
              "      border-left-color: var(--fill-color);\n",
              "      border-top-color: var(--fill-color);\n",
              "    }\n",
              "    30% {\n",
              "      border-color: transparent;\n",
              "      border-left-color: var(--fill-color);\n",
              "      border-top-color: var(--fill-color);\n",
              "      border-right-color: var(--fill-color);\n",
              "    }\n",
              "    40% {\n",
              "      border-color: transparent;\n",
              "      border-right-color: var(--fill-color);\n",
              "      border-top-color: var(--fill-color);\n",
              "    }\n",
              "    60% {\n",
              "      border-color: transparent;\n",
              "      border-right-color: var(--fill-color);\n",
              "    }\n",
              "    80% {\n",
              "      border-color: transparent;\n",
              "      border-right-color: var(--fill-color);\n",
              "      border-bottom-color: var(--fill-color);\n",
              "    }\n",
              "    90% {\n",
              "      border-color: transparent;\n",
              "      border-bottom-color: var(--fill-color);\n",
              "    }\n",
              "  }\n",
              "</style>\n",
              "\n",
              "  <script>\n",
              "    async function quickchart(key) {\n",
              "      const quickchartButtonEl =\n",
              "        document.querySelector('#' + key + ' button');\n",
              "      quickchartButtonEl.disabled = true;  // To prevent multiple clicks.\n",
              "      quickchartButtonEl.classList.add('colab-df-spinner');\n",
              "      try {\n",
              "        const charts = await google.colab.kernel.invokeFunction(\n",
              "            'suggestCharts', [key], {});\n",
              "      } catch (error) {\n",
              "        console.error('Error during call to suggestCharts:', error);\n",
              "      }\n",
              "      quickchartButtonEl.classList.remove('colab-df-spinner');\n",
              "      quickchartButtonEl.classList.add('colab-df-quickchart-complete');\n",
              "    }\n",
              "    (() => {\n",
              "      let quickchartButtonEl =\n",
              "        document.querySelector('#df-e09dd3aa-9d2c-4856-bfe2-cd56b863e3c7 button');\n",
              "      quickchartButtonEl.style.display =\n",
              "        google.colab.kernel.accessAllowed ? 'block' : 'none';\n",
              "    })();\n",
              "  </script>\n",
              "</div>\n",
              "\n",
              "  <div id=\"id_601abd04-800c-4c79-9f41-2ec1e36b905d\">\n",
              "    <style>\n",
              "      .colab-df-generate {\n",
              "        background-color: #E8F0FE;\n",
              "        border: none;\n",
              "        border-radius: 50%;\n",
              "        cursor: pointer;\n",
              "        display: none;\n",
              "        fill: #1967D2;\n",
              "        height: 32px;\n",
              "        padding: 0 0 0 0;\n",
              "        width: 32px;\n",
              "      }\n",
              "\n",
              "      .colab-df-generate:hover {\n",
              "        background-color: #E2EBFA;\n",
              "        box-shadow: 0px 1px 2px rgba(60, 64, 67, 0.3), 0px 1px 3px 1px rgba(60, 64, 67, 0.15);\n",
              "        fill: #174EA6;\n",
              "      }\n",
              "\n",
              "      [theme=dark] .colab-df-generate {\n",
              "        background-color: #3B4455;\n",
              "        fill: #D2E3FC;\n",
              "      }\n",
              "\n",
              "      [theme=dark] .colab-df-generate:hover {\n",
              "        background-color: #434B5C;\n",
              "        box-shadow: 0px 1px 3px 1px rgba(0, 0, 0, 0.15);\n",
              "        filter: drop-shadow(0px 1px 2px rgba(0, 0, 0, 0.3));\n",
              "        fill: #FFFFFF;\n",
              "      }\n",
              "    </style>\n",
              "    <button class=\"colab-df-generate\" onclick=\"generateWithVariable('df')\"\n",
              "            title=\"Generate code using this dataframe.\"\n",
              "            style=\"display:none;\">\n",
              "\n",
              "  <svg xmlns=\"http://www.w3.org/2000/svg\" height=\"24px\"viewBox=\"0 0 24 24\"\n",
              "       width=\"24px\">\n",
              "    <path d=\"M7,19H8.4L18.45,9,17,7.55,7,17.6ZM5,21V16.75L18.45,3.32a2,2,0,0,1,2.83,0l1.4,1.43a1.91,1.91,0,0,1,.58,1.4,1.91,1.91,0,0,1-.58,1.4L9.25,21ZM18.45,9,17,7.55Zm-12,3A5.31,5.31,0,0,0,4.9,8.1,5.31,5.31,0,0,0,1,6.5,5.31,5.31,0,0,0,4.9,4.9,5.31,5.31,0,0,0,6.5,1,5.31,5.31,0,0,0,8.1,4.9,5.31,5.31,0,0,0,12,6.5,5.46,5.46,0,0,0,6.5,12Z\"/>\n",
              "  </svg>\n",
              "    </button>\n",
              "    <script>\n",
              "      (() => {\n",
              "      const buttonEl =\n",
              "        document.querySelector('#id_601abd04-800c-4c79-9f41-2ec1e36b905d button.colab-df-generate');\n",
              "      buttonEl.style.display =\n",
              "        google.colab.kernel.accessAllowed ? 'block' : 'none';\n",
              "\n",
              "      buttonEl.onclick = () => {\n",
              "        google.colab.notebook.generateWithVariable('df');\n",
              "      }\n",
              "      })();\n",
              "    </script>\n",
              "  </div>\n",
              "\n",
              "    </div>\n",
              "  </div>\n"
            ],
            "application/vnd.google.colaboratory.intrinsic+json": {
              "type": "dataframe",
              "variable_name": "df"
            }
          },
          "metadata": {},
          "execution_count": 17
        }
      ],
      "source": [
        "df"
      ]
    },
    {
      "cell_type": "code",
      "source": [
        "def safe_lower(input_text):\n",
        "    if pd.isnull(input_text):\n",
        "        return None  # Choose how to handle nulls based on your context\n",
        "    return str(input_text).lower()\n",
        "\n",
        "df['text'] = df['text'].apply(safe_lower)\n"
      ],
      "metadata": {
        "id": "-hDnTMGoDwUZ"
      },
      "execution_count": 19,
      "outputs": []
    },
    {
      "cell_type": "code",
      "execution_count": 20,
      "metadata": {
        "colab": {
          "base_uri": "https://localhost:8080/"
        },
        "id": "nKn1XpO3Mt9T",
        "outputId": "105c2bec-8b27-4fd3-e6fb-a9e12c39e875"
      },
      "outputs": [
        {
          "output_type": "stream",
          "name": "stdout",
          "text": [
            "Unique emotions: [0 4]\n",
            " Number of unique emotions: 2\n"
          ]
        }
      ],
      "source": [
        "print(f\"Unique emotions: {df['Emotion'].unique()}\\n Number of unique emotions: {df['Emotion'].nunique()}\")"
      ]
    },
    {
      "cell_type": "markdown",
      "metadata": {
        "id": "oL9MHOacQOAG"
      },
      "source": [
        "We need to convert our labels into numeric values so the model can work with them"
      ]
    },
    {
      "cell_type": "code",
      "execution_count": 21,
      "metadata": {
        "id": "VbyjQIchPovi"
      },
      "outputs": [],
      "source": [
        "df['Label'], Emotions = pd.factorize(df['Emotion'])"
      ]
    },
    {
      "cell_type": "code",
      "execution_count": 22,
      "metadata": {
        "id": "lLgByIrdM14U"
      },
      "outputs": [],
      "source": [
        "X = df['text']\n",
        "y = df['Label']\n",
        "X_train, X_test, y_train, y_test = train_test_split(X, y, test_size=0.2, random_state=37)"
      ]
    },
    {
      "cell_type": "markdown",
      "metadata": {
        "id": "GetFGyriNtRj"
      },
      "source": [
        "Before we can feed our inputs into the model, we need to convert them into a form the computer can read: numbers. Tensorflow has a tokenizer method built in, which essentially creates a dictionary of words from a series of texts.\n",
        "\n",
        "Once we have all of our tokens, we can transform our lines of text into sequences of tokens which can be fed into the model."
      ]
    },
    {
      "cell_type": "code",
      "execution_count": 23,
      "metadata": {
        "id": "lFmqO_D-NR6J"
      },
      "outputs": [],
      "source": [
        "tokenizer = Tokenizer(num_words = 60000, oov_token = \"<OOV>\")\n",
        "tokenizer.fit_on_texts(X_train)\n",
        "tokenizer.fit_on_texts(X_test)\n",
        "\n",
        "X_train_sequences = tokenizer.texts_to_sequences(X_train)\n",
        "X_test_sequences = tokenizer.texts_to_sequences(X_test)"
      ]
    },
    {
      "cell_type": "markdown",
      "metadata": {
        "id": "XnILLj8gOirJ"
      },
      "source": [
        "Our model expects a uniform input size. To accomplish this we pad the sequences with 0's so that each input is equal in size to our largest input."
      ]
    },
    {
      "cell_type": "code",
      "execution_count": 24,
      "metadata": {
        "colab": {
          "base_uri": "https://localhost:8080/"
        },
        "id": "tiCyjM2iNTrA",
        "outputId": "44018bd9-a721-488d-856d-7f6a99520111"
      },
      "outputs": [
        {
          "output_type": "stream",
          "name": "stdout",
          "text": [
            "Maximum sequence length (maxlen): 50\n"
          ]
        }
      ],
      "source": [
        "maxlen = max(len(tokens) for tokens in X_train_sequences)\n",
        "print(\"Maximum sequence length (maxlen):\", maxlen)\n",
        "\n",
        "X_train_padded = pad_sequences(X_train_sequences, maxlen=maxlen, padding='post')\n",
        "X_test_padded = pad_sequences(X_test_sequences, maxlen=maxlen, padding='post')"
      ]
    },
    {
      "cell_type": "code",
      "execution_count": 25,
      "metadata": {
        "colab": {
          "base_uri": "https://localhost:8080/"
        },
        "id": "LW4vYXPMBRag",
        "outputId": "74cca09f-5df9-48e4-9607-0ba0d2bd172a"
      },
      "outputs": [
        {
          "output_type": "execute_result",
          "data": {
            "text/plain": [
              "60000"
            ]
          },
          "metadata": {},
          "execution_count": 25
        }
      ],
      "source": [
        "np.max(X_train_padded) + 1"
      ]
    },
    {
      "cell_type": "code",
      "execution_count": 26,
      "metadata": {
        "id": "ISW7rELmBRag"
      },
      "outputs": [],
      "source": [
        "def positional_encoding(length, depth):\n",
        "  depth = depth/2\n",
        "\n",
        "  positions = np.arange(length)[:, np.newaxis]     # (seq, 1)\n",
        "  depths = np.arange(depth)[np.newaxis, :]/depth   # (1, depth)\n",
        "\n",
        "  angle_rates = 1 / (10000**depths)         # (1, depth)\n",
        "  angle_rads = positions * angle_rates      # (pos, depth)\n",
        "\n",
        "  pos_encoding = np.concatenate(\n",
        "      [np.sin(angle_rads), np.cos(angle_rads)],\n",
        "      axis=-1)\n",
        "\n",
        "  return tf.cast(pos_encoding, dtype=tf.float32)\n",
        "\n",
        "class PositionalEmbedding(tf.keras.layers.Layer):\n",
        "  def __init__(self, vocab_size, d_model):\n",
        "    super().__init__()\n",
        "    self.d_model = d_model\n",
        "    self.embedding = tf.keras.layers.Embedding(vocab_size, d_model, mask_zero=True)\n",
        "    self.pos_encoding = positional_encoding(length=178, depth=d_model)\n",
        "\n",
        "  def compute_mask(self, *args, **kwargs):\n",
        "    return self.embedding.compute_mask(*args, **kwargs)\n",
        "\n",
        "  def call(self, x):\n",
        "    length = tf.shape(x)[1]\n",
        "    x = self.embedding(x)\n",
        "    # This factor sets the relative scale of the embedding and positonal_encoding.\n",
        "    x *= tf.math.sqrt(tf.cast(self.d_model, tf.float32))\n",
        "    x = x + self.pos_encoding[tf.newaxis, :length, :]\n",
        "    return x"
      ]
    },
    {
      "cell_type": "code",
      "execution_count": 27,
      "metadata": {
        "id": "dMlnpWM0gCBt"
      },
      "outputs": [],
      "source": [
        "class TransformerBlock(Layer):\n",
        "    def __init__(self, embed_dim, num_heads, ff_dim, rate=0.1):\n",
        "        super(TransformerBlock, self).__init__()\n",
        "        self.att = MultiHeadAttention(num_heads=num_heads, key_dim=embed_dim)\n",
        "        self.ffn = Sequential(\n",
        "            [Dense(ff_dim, activation=\"relu\"),\n",
        "             Dense(embed_dim),]\n",
        "        )\n",
        "        self.layernorm1 = LayerNormalization(epsilon=1e-6)\n",
        "        self.layernorm2 = LayerNormalization(epsilon=1e-6)\n",
        "        self.dropout1 = Dropout(rate)\n",
        "        self.dropout2 = Dropout(rate)\n",
        "\n",
        "    def call(self, inputs, training):\n",
        "        attn_output = self.att(inputs, inputs)\n",
        "        attn_output = self.dropout1(attn_output, training=training)\n",
        "        out1 = self.layernorm1(inputs + attn_output)\n",
        "        ffn_output = self.ffn(out1)\n",
        "        ffn_output = self.dropout2(ffn_output, training=training)\n",
        "        return self.layernorm2(out1 + ffn_output)"
      ]
    },
    {
      "cell_type": "code",
      "execution_count": 28,
      "metadata": {
        "id": "Yj3LopM_Gjx5"
      },
      "outputs": [],
      "source": [
        "model = Sequential()\n",
        "model.add(Input(shape=(maxlen,),dtype='float64'))\n",
        "model.add(PositionalEmbedding(vocab_size = np.max(X_train_padded) + 1, d_model = 100))\n",
        "model.add(TransformerBlock(embed_dim = 100, num_heads = 2, ff_dim = 64))\n",
        "model.add(GlobalAveragePooling1D())\n",
        "model.add(Dropout(0.5))\n",
        "model.add(Dense(64, activation='relu',\n",
        "                kernel_regularizer=L1(0.01),\n",
        "                activity_regularizer=L2(0.01)))\n",
        "model.add(Dropout(0.5))\n",
        "model.add(Dense(13, activation='softmax'))"
      ]
    },
    {
      "cell_type": "code",
      "execution_count": 29,
      "metadata": {
        "colab": {
          "base_uri": "https://localhost:8080/"
        },
        "id": "85gzpCFmg5kR",
        "outputId": "87705163-c6cb-4863-edd4-ce2bbb4f47c3"
      },
      "outputs": [
        {
          "output_type": "stream",
          "name": "stdout",
          "text": [
            "Model: \"sequential\"\n",
            "_________________________________________________________________\n",
            " Layer (type)                Output Shape              Param #   \n",
            "=================================================================\n",
            " positional_embedding (Posi  (None, 50, 100)           6000000   \n",
            " tionalEmbedding)                                                \n",
            "                                                                 \n",
            " transformer_block (Transfo  (None, 50, 100)           94064     \n",
            " rmerBlock)                                                      \n",
            "                                                                 \n",
            " global_average_pooling1d (  (None, 100)               0         \n",
            " GlobalAveragePooling1D)                                         \n",
            "                                                                 \n",
            " dropout_2 (Dropout)         (None, 100)               0         \n",
            "                                                                 \n",
            " dense_2 (Dense)             (None, 64)                6464      \n",
            "                                                                 \n",
            " dropout_3 (Dropout)         (None, 64)                0         \n",
            "                                                                 \n",
            " dense_3 (Dense)             (None, 13)                845       \n",
            "                                                                 \n",
            "=================================================================\n",
            "Total params: 6101373 (23.27 MB)\n",
            "Trainable params: 6101373 (23.27 MB)\n",
            "Non-trainable params: 0 (0.00 Byte)\n",
            "_________________________________________________________________\n"
          ]
        }
      ],
      "source": [
        "# Now compile and summarize your model\n",
        "model.compile(optimizer='adam', loss='sparse_categorical_crossentropy', metrics=['accuracy'])\n",
        "model.summary()"
      ]
    },
    {
      "cell_type": "code",
      "execution_count": 30,
      "metadata": {
        "colab": {
          "base_uri": "https://localhost:8080/"
        },
        "id": "igY1dXLANY3n",
        "outputId": "f3fc5094-4bb2-498f-ed7a-8286a6dd98aa"
      },
      "outputs": [
        {
          "output_type": "stream",
          "name": "stdout",
          "text": [
            "Epoch 1/5\n",
            "37243/37243 [==============================] - 353s 9ms/step - loss: 0.6001 - accuracy: 0.7530 - val_loss: 0.5247 - val_accuracy: 0.7710\n",
            "Epoch 2/5\n",
            "37243/37243 [==============================] - 329s 9ms/step - loss: 0.5323 - accuracy: 0.7787 - val_loss: 0.5243 - val_accuracy: 0.7713\n",
            "Epoch 3/5\n",
            "37243/37243 [==============================] - 316s 8ms/step - loss: 0.5215 - accuracy: 0.7832 - val_loss: 0.5172 - val_accuracy: 0.7740\n",
            "Epoch 4/5\n",
            "37243/37243 [==============================] - 318s 9ms/step - loss: 0.5176 - accuracy: 0.7842 - val_loss: 0.5148 - val_accuracy: 0.7719\n",
            "Epoch 5/5\n",
            "37243/37243 [==============================] - 322s 9ms/step - loss: 0.5163 - accuracy: 0.7813 - val_loss: 0.5122 - val_accuracy: 0.7712\n"
          ]
        }
      ],
      "source": [
        "history = model.fit(X_train_padded, y_train, epochs=5, batch_size=32,\n",
        "                    validation_data=(X_test_padded, y_test))"
      ]
    },
    {
      "cell_type": "code",
      "execution_count": 31,
      "metadata": {
        "id": "R9COKw92o3wK"
      },
      "outputs": [],
      "source": [
        "history_dict = history.history\n",
        "json.dump(history_dict, open('transformer_history','w'))"
      ]
    },
    {
      "cell_type": "code",
      "execution_count": 32,
      "metadata": {
        "id": "fkZSVejoNohv"
      },
      "outputs": [],
      "source": [
        "model.save('Transformer_Model')"
      ]
    },
    {
      "cell_type": "code",
      "execution_count": 33,
      "metadata": {
        "id": "9G_FyJ3oOOOf"
      },
      "outputs": [],
      "source": [
        "model = tf.keras.models.load_model(\"Transformer_Model\")"
      ]
    },
    {
      "cell_type": "code",
      "execution_count": 34,
      "metadata": {
        "colab": {
          "base_uri": "https://localhost:8080/"
        },
        "id": "iQzrLorDBRaj",
        "outputId": "98ffd14e-59d9-4427-fb90-73a930e790f9"
      },
      "outputs": [
        {
          "output_type": "stream",
          "name": "stdout",
          "text": [
            "Model: \"sequential\"\n",
            "_________________________________________________________________\n",
            " Layer (type)                Output Shape              Param #   \n",
            "=================================================================\n",
            " positional_embedding (Posi  (None, 50, 100)           6000000   \n",
            " tionalEmbedding)                                                \n",
            "                                                                 \n",
            " transformer_block (Transfo  (None, 50, 100)           94064     \n",
            " rmerBlock)                                                      \n",
            "                                                                 \n",
            " global_average_pooling1d (  (None, 100)               0         \n",
            " GlobalAveragePooling1D)                                         \n",
            "                                                                 \n",
            " dropout_2 (Dropout)         (None, 100)               0         \n",
            "                                                                 \n",
            " dense_2 (Dense)             (None, 64)                6464      \n",
            "                                                                 \n",
            " dropout_3 (Dropout)         (None, 64)                0         \n",
            "                                                                 \n",
            " dense_3 (Dense)             (None, 13)                845       \n",
            "                                                                 \n",
            "=================================================================\n",
            "Total params: 6101373 (23.27 MB)\n",
            "Trainable params: 6101373 (23.27 MB)\n",
            "Non-trainable params: 0 (0.00 Byte)\n",
            "_________________________________________________________________\n"
          ]
        }
      ],
      "source": [
        "model.summary()"
      ]
    },
    {
      "cell_type": "code",
      "execution_count": 36,
      "metadata": {
        "id": "fRFIXBjwBRaj"
      },
      "outputs": [],
      "source": [
        "history = json.load(open(\"transformer_history\",'r'))"
      ]
    },
    {
      "cell_type": "code",
      "execution_count": 37,
      "metadata": {
        "colab": {
          "base_uri": "https://localhost:8080/",
          "height": 607
        },
        "id": "Y4TUkkCZBRaj",
        "outputId": "1ea4a0be-f43d-4f69-c4b8-c01cf5f9bd45"
      },
      "outputs": [
        {
          "output_type": "display_data",
          "data": {
            "text/plain": [
              "<Figure size 600x600 with 2 Axes>"
            ],
            "image/png": "[encoded data removed]"
          },
          "metadata": {}
        }
      ],
      "source": [
        "best_epoch = history['val_accuracy'].index(max(history['val_accuracy'])) + 1\n",
        "\n",
        "fig, axs = plt.subplots(2, 1, figsize=(6, 6))\n",
        "\n",
        "# Plot training and validation accuracy\n",
        "axs[0].plot(history['accuracy'], label='Training Accuracy', color='blue')\n",
        "axs[0].plot(history['val_accuracy'], label='Validation Accuracy', color='red')\n",
        "axs[0].scatter(best_epoch - 1, history['val_accuracy'][best_epoch - 1], color='green', label=f'Best Epoch: {best_epoch}')\n",
        "axs[0].set_xlabel('Epoch')\n",
        "axs[0].set_ylabel('Accuracy')\n",
        "axs[0].set_title('Training and Validation Accuracy')\n",
        "axs[0].legend()\n",
        "\n",
        "# Plot training and validation loss\n",
        "axs[1].plot(history['loss'], label='Training Loss', color='blue')\n",
        "axs[1].plot(history['val_loss'], label='Validation Loss', color='red')\n",
        "axs[1].scatter(best_epoch - 1, history['val_loss'][best_epoch - 1], color='green',label=f'Best Epoch: {best_epoch}')\n",
        "axs[1].set_xlabel('Epoch')\n",
        "axs[1].set_ylabel('Loss')\n",
        "axs[1].set_title('Training and Validation Loss')\n",
        "axs[1].legend()\n",
        "\n",
        "plt.tight_layout()\n",
        "plt.show()"
      ]
    },
    {
      "cell_type": "code",
      "execution_count": 38,
      "metadata": {
        "colab": {
          "base_uri": "https://localhost:8080/"
        },
        "id": "3Xby82zgBRaj",
        "outputId": "a7d2604c-9ff3-4244-805d-c92cb2493b84"
      },
      "outputs": [
        {
          "output_type": "stream",
          "name": "stdout",
          "text": [
            "9311/9311 [==============================] - 26s 3ms/step\n"
          ]
        }
      ],
      "source": [
        "y_pred = model.predict(X_test_padded)\n",
        "y_pred = np.argmax(y_pred, axis=1)"
      ]
    },
    {
      "cell_type": "code",
      "execution_count": 40,
      "metadata": {
        "colab": {
          "base_uri": "https://localhost:8080/"
        },
        "id": "b2CmsLdjBRaj",
        "outputId": "9abe7f5f-8e46-43bd-c3cf-d9d1e997b0fd"
      },
      "outputs": [
        {
          "output_type": "stream",
          "name": "stdout",
          "text": [
            "              precision    recall  f1-score   support\n",
            "\n",
            "           0       0.76      0.80      0.78    149835\n",
            "           4       0.78      0.75      0.76    148108\n",
            "\n",
            "    accuracy                           0.77    297943\n",
            "   macro avg       0.77      0.77      0.77    297943\n",
            "weighted avg       0.77      0.77      0.77    297943\n",
            "\n"
          ]
        }
      ],
      "source": [
        "print(classification_report(y_test,y_pred,labels = list(np.arange(2)),target_names = ['0', '4'], zero_division = 0.0))"
      ]
    },
    {
      "cell_type": "code",
      "execution_count": 41,
      "metadata": {
        "colab": {
          "base_uri": "https://localhost:8080/",
          "height": 564
        },
        "id": "wZHbs4wHBRak",
        "outputId": "64da9a65-4ad4-46ae-ca2e-9afa3aaee881"
      },
      "outputs": [
        {
          "output_type": "display_data",
          "data": {
            "text/plain": [
              "<Figure size 800x600 with 2 Axes>"
            ],
            "image/png": "[encoded data removed]"
          },
          "metadata": {}
        }
      ],
      "source": [
        "# y_test and y_pred are your true and predicted labels\n",
        "cm = confusion_matrix(y_test, y_pred)\n",
        "\n",
        "# Plot confusion matrix\n",
        "plt.figure(figsize=(8, 6))\n",
        "sns.heatmap(cm, annot = True, fmt='d', cmap = 'Greens',\n",
        "           xticklabels = ['0', '4'],\n",
        "           yticklabels = ['0', '4'])\n",
        "plt.xlabel('Predicted labels')\n",
        "plt.ylabel('True labels')\n",
        "plt.title('Transformer Confusion Matrix')\n",
        "plt.show()"
      ]
    },
    {
      "cell_type": "code",
      "execution_count": null,
      "metadata": {
        "id": "q9DkaMRGBRak"
      },
      "outputs": [],
      "source": []
    },
    {
      "cell_type": "markdown",
      "metadata": {
        "id": "XFAAxvdKBRak"
      },
      "source": [
        "### Generative Model"
      ]
    },
    {
      "cell_type": "code",
      "execution_count": null,
      "metadata": {
        "id": "17LbTs4BBRak"
      },
      "outputs": [],
      "source": [
        "songs = pd.read_csv(r\"C:\\Users\\danfe\\OneDrive\\Desktop\\School_Work\\MATH 6373\\Project\\Song Data\\lyrics-data.csv\")\n",
        "songs_en = songs[songs.language == 'en']\n",
        "songs_en = songs_en[:250]"
      ]
    },
    {
      "cell_type": "code",
      "execution_count": null,
      "metadata": {
        "scrolled": true,
        "id": "U2_jq1lSBRak",
        "outputId": "14cc5319-fbbb-4af5-9094-c5fd0214a04a"
      },
      "outputs": [
        {
          "data": {
            "text/plain": [
              "[2,\n",
              " 63,\n",
              " 22,\n",
              " 2952,\n",
              " 149,\n",
              " 2,\n",
              " 62,\n",
              " 15,\n",
              " 318,\n",
              " 7,\n",
              " 868,\n",
              " 1,\n",
              " 5,\n",
              " 3,\n",
              " 228,\n",
              " 264,\n",
              " 149,\n",
              " 3,\n",
              " 479,\n",
              " 2953,\n",
              " 208,\n",
              " 12,\n",
              " 15,\n",
              " 165,\n",
              " 1326,\n",
              " 5,\n",
              " 133,\n",
              " 9,\n",
              " 2954,\n",
              " 1327,\n",
              " 7,\n",
              " 18,\n",
              " 480,\n",
              " 1007,\n",
              " 2955,\n",
              " 10,\n",
              " 53,\n",
              " 124,\n",
              " 228,\n",
              " 200,\n",
              " 1520,\n",
              " 614,\n",
              " 107,\n",
              " 35,\n",
              " 29,\n",
              " 1008,\n",
              " 517,\n",
              " 36,\n",
              " 438,\n",
              " 5,\n",
              " 680,\n",
              " 2,\n",
              " 27,\n",
              " 40,\n",
              " 61,\n",
              " 9,\n",
              " 467,\n",
              " 1328,\n",
              " 681,\n",
              " 201,\n",
              " 153,\n",
              " 5,\n",
              " 1329,\n",
              " 9,\n",
              " 417,\n",
              " 7,\n",
              " 615,\n",
              " 3,\n",
              " 939,\n",
              " 14,\n",
              " 112,\n",
              " 76,\n",
              " 869,\n",
              " 22,\n",
              " 10,\n",
              " 53,\n",
              " 124,\n",
              " 228,\n",
              " 200,\n",
              " 3,\n",
              " 65,\n",
              " 2,\n",
              " 1330,\n",
              " 31,\n",
              " 1,\n",
              " 55,\n",
              " 38,\n",
              " 53,\n",
              " 2956,\n",
              " 3,\n",
              " 2957,\n",
              " 2958,\n",
              " 26,\n",
              " 9,\n",
              " 84,\n",
              " 417,\n",
              " 5,\n",
              " 3,\n",
              " 157,\n",
              " 7,\n",
              " 133,\n",
              " 2959,\n",
              " 30,\n",
              " 382,\n",
              " 219,\n",
              " 29,\n",
              " 1331,\n",
              " 12,\n",
              " 3,\n",
              " 518,\n",
              " 368,\n",
              " 30,\n",
              " 18,\n",
              " 151,\n",
              " 158,\n",
              " 10,\n",
              " 53,\n",
              " 124,\n",
              " 228,\n",
              " 200,\n",
              " 1520,\n",
              " 614,\n",
              " 107,\n",
              " 35,\n",
              " 29,\n",
              " 1008,\n",
              " 517,\n",
              " 36,\n",
              " 438,\n",
              " 5,\n",
              " 680,\n",
              " 2,\n",
              " 27,\n",
              " 40,\n",
              " 61,\n",
              " 9,\n",
              " 467,\n",
              " 1328,\n",
              " 681,\n",
              " 201,\n",
              " 153,\n",
              " 5,\n",
              " 1329,\n",
              " 9,\n",
              " 417,\n",
              " 7,\n",
              " 615,\n",
              " 23,\n",
              " 939,\n",
              " 14,\n",
              " 112,\n",
              " 76,\n",
              " 869,\n",
              " 22,\n",
              " 10,\n",
              " 53,\n",
              " 124,\n",
              " 228,\n",
              " 200,\n",
              " 3,\n",
              " 65,\n",
              " 2,\n",
              " 1330,\n",
              " 31,\n",
              " 1,\n",
              " 53,\n",
              " 202,\n",
              " 15,\n",
              " 11,\n",
              " 88,\n",
              " 3,\n",
              " 479,\n",
              " 519,\n",
              " 22,\n",
              " 940,\n",
              " 2,\n",
              " 409,\n",
              " 14,\n",
              " 24,\n",
              " 126,\n",
              " 285,\n",
              " 23,\n",
              " 2240,\n",
              " 520,\n",
              " 36,\n",
              " 201,\n",
              " 23,\n",
              " 65,\n",
              " 1521,\n",
              " 229,\n",
              " 568,\n",
              " 329,\n",
              " 31,\n",
              " 3,\n",
              " 166,\n",
              " 1521,\n",
              " 52,\n",
              " 5,\n",
              " 44,\n",
              " 24,\n",
              " 126,\n",
              " 107,\n",
              " 76,\n",
              " 22,\n",
              " 84,\n",
              " 319,\n",
              " 24,\n",
              " 126,\n",
              " 107,\n",
              " 821,\n",
              " 23,\n",
              " 228,\n",
              " 254,\n",
              " 34,\n",
              " 37,\n",
              " 682,\n",
              " 124,\n",
              " 228,\n",
              " 31,\n",
              " 4,\n",
              " 265,\n",
              " 248,\n",
              " 7,\n",
              " 10,\n",
              " 53,\n",
              " 124,\n",
              " 228,\n",
              " 200,\n",
              " 1520,\n",
              " 614,\n",
              " 107,\n",
              " 35,\n",
              " 29,\n",
              " 1008,\n",
              " 517,\n",
              " 36,\n",
              " 438,\n",
              " 5,\n",
              " 680,\n",
              " 2,\n",
              " 27,\n",
              " 40,\n",
              " 61,\n",
              " 9,\n",
              " 467,\n",
              " 1328,\n",
              " 681,\n",
              " 201,\n",
              " 153,\n",
              " 5,\n",
              " 1329,\n",
              " 9,\n",
              " 417,\n",
              " 7,\n",
              " 615,\n",
              " 3,\n",
              " 939,\n",
              " 14,\n",
              " 112,\n",
              " 76,\n",
              " 869,\n",
              " 22,\n",
              " 10,\n",
              " 53,\n",
              " 124,\n",
              " 228,\n",
              " 200,\n",
              " 3,\n",
              " 65,\n",
              " 2,\n",
              " 1330,\n",
              " 31,\n",
              " 1,\n",
              " 37,\n",
              " 14,\n",
              " 40,\n",
              " 259,\n",
              " 37,\n",
              " 14,\n",
              " 40,\n",
              " 259,\n",
              " 37,\n",
              " 14,\n",
              " 40,\n",
              " 259,\n",
              " 50,\n",
              " 2,\n",
              " 2960,\n",
              " 22,\n",
              " 377,\n",
              " 22,\n",
              " 377,\n",
              " 14,\n",
              " 1,\n",
              " 116,\n",
              " 5,\n",
              " 209,\n",
              " 4,\n",
              " 255]"
            ]
          },
          "execution_count": 5,
          "metadata": {},
          "output_type": "execute_result"
        }
      ],
      "source": [
        "tokenizer = Tokenizer()\n",
        "tokenizer.fit_on_texts(songs_en['Lyric'].astype(str).str.lower())\n",
        "\n",
        "total_words = len(tokenizer.word_index)+1\n",
        "tokenized_sentences = tokenizer.texts_to_sequences(songs_en['Lyric'].astype(str))\n",
        "tokenized_sentences[0]"
      ]
    },
    {
      "cell_type": "code",
      "execution_count": null,
      "metadata": {
        "id": "nDdnKappBRal"
      },
      "outputs": [],
      "source": [
        "# Create n-gram sequences\n",
        "input_sequences = list()\n",
        "for i in tokenized_sentences:\n",
        "    for t in range(1, len(i)):\n",
        "        n_gram_sequence = i[:t+1]\n",
        "        input_sequences.append(n_gram_sequence)\n",
        "\n",
        "# Pre-padding\n",
        "max_sequence_len = max([len(x) for x in input_sequences])\n",
        "input_sequences = np.array(pad_sequences(input_sequences, maxlen=max_sequence_len, padding='pre'))"
      ]
    },
    {
      "cell_type": "code",
      "execution_count": null,
      "metadata": {
        "id": "poWhL4b6BRal"
      },
      "outputs": [],
      "source": [
        "# Creating predictors and labels\n",
        "X, labels = input_sequences[:,:-1],input_sequences[:,-1]\n",
        "y = tf.keras.utils.to_categorical(labels, num_classes=total_words)"
      ]
    },
    {
      "cell_type": "code",
      "execution_count": null,
      "metadata": {
        "id": "os0lwr9FBRal"
      },
      "outputs": [],
      "source": [
        "model = Sequential()\n",
        "model.add(Embedding(input_dim=total_words, output_dim=100,input_length=max_sequence_len - 1))\n",
        "model.add(TransformerBlock(embed_dim = 100, num_heads = 2, ff_dim = 64))\n",
        "model.add(GlobalAveragePooling1D())\n",
        "model.add(Dropout(0.2))\n",
        "model.add(Dense(total_words, activation='softmax'))"
      ]
    },
    {
      "cell_type": "code",
      "execution_count": null,
      "metadata": {
        "id": "MfigubWrBRal"
      },
      "outputs": [],
      "source": [
        "model.compile(\n",
        "    loss='categorical_crossentropy',\n",
        "    optimizer=tf.keras.optimizers.Adam(learning_rate=.01),\n",
        "    metrics=['accuracy']\n",
        "    )\n",
        "earlystop = EarlyStopping(monitor='loss', min_delta = 0, patience = 3, verbose = 0, mode='auto')"
      ]
    },
    {
      "cell_type": "code",
      "execution_count": null,
      "metadata": {
        "id": "z1zVm_hFBRal",
        "outputId": "8b74b565-9ab4-42b8-ac08-4f030d35ad6f"
      },
      "outputs": [
        {
          "name": "stdout",
          "output_type": "stream",
          "text": [
            "Epoch 1/10\n",
            "2972/2972 [==============================] - 310s 103ms/step - loss: 6.2141 - accuracy: 0.0473\n",
            "Epoch 2/10\n",
            "2972/2972 [==============================] - 308s 104ms/step - loss: 5.8552 - accuracy: 0.0564\n",
            "Epoch 3/10\n",
            "2972/2972 [==============================] - 308s 104ms/step - loss: 5.6226 - accuracy: 0.0631\n",
            "Epoch 4/10\n",
            "2972/2972 [==============================] - 305s 103ms/step - loss: 5.4442 - accuracy: 0.0676\n",
            "Epoch 5/10\n",
            "2972/2972 [==============================] - 304s 102ms/step - loss: 5.3066 - accuracy: 0.0692\n",
            "Epoch 6/10\n",
            "2972/2972 [==============================] - 303s 102ms/step - loss: 5.1944 - accuracy: 0.0734\n",
            "Epoch 7/10\n",
            "2972/2972 [==============================] - 306s 103ms/step - loss: 5.0997 - accuracy: 0.0745\n",
            "Epoch 8/10\n",
            "2972/2972 [==============================] - 304s 102ms/step - loss: 5.0244 - accuracy: 0.0761\n",
            "Epoch 9/10\n",
            "2972/2972 [==============================] - 309s 104ms/step - loss: 4.9555 - accuracy: 0.0777\n",
            "Epoch 10/10\n",
            "2972/2972 [==============================] - 337s 113ms/step - loss: 4.9009 - accuracy: 0.0793\n"
          ]
        }
      ],
      "source": [
        "history = model.fit(X,y, epochs = 10, verbose = 1, callbacks = [earlystop])"
      ]
    },
    {
      "cell_type": "code",
      "execution_count": null,
      "metadata": {
        "id": "6BzN2XGIBRam"
      },
      "outputs": [],
      "source": [
        "def generate_lyrics(seed_text, next_words):\n",
        "    for _ in range(next_words):\n",
        "        token_list = tokenizer.texts_to_sequences([seed_text])[0]\n",
        "        token_list = pad_sequences([token_list], maxlen=max_sequence_len-1, padding='pre')\n",
        "        predictions = model.predict(token_list, verbose=0)\n",
        "        choice = np.random.choice([1,2,3])\n",
        "        # sort ascending and select from 3 highest probabilities\n",
        "        predicted = np.argsort(predictions)[0][-choice]\n",
        "\n",
        "        output_word = \"\"\n",
        "        for word, index in tokenizer.word_index.items():\n",
        "            if index == predicted:\n",
        "                output_word = word\n",
        "                break\n",
        "        seed_text += \" \" + output_word\n",
        "    return seed_text"
      ]
    },
    {
      "cell_type": "code",
      "execution_count": null,
      "metadata": {
        "id": "82F0aB6fBRam"
      },
      "outputs": [],
      "source": [
        "def generate_lyrics(seed_text, next_words):\n",
        "    # Loop until desired length is reached\n",
        "    for _ in range(next_words):\n",
        "\n",
        "\t# Convert the seed text to a token sequence\n",
        "    \ttoken_list = tokenizer.texts_to_sequences([seed_text])[0]\n",
        "\n",
        "\t# Pad the sequence\n",
        "    \ttoken_list = pad_sequences([token_list], maxlen=max_sequence_len-1, padding='pre')\n",
        "\n",
        "\t# Feed to the model and get the probabilities for each index\n",
        "    \tprobabilities = model.predict(token_list, verbose=0)\n",
        "\n",
        "\t# Get the index with the highest probability\n",
        "    \tpredicted = np.argmax(probabilities, axis=-1)[0]\n",
        "\n",
        "\t# Ignore if index is 0 because that is just the padding.\n",
        "    \tif predicted != 0:\n",
        "\n",
        "\t\t# Look up the word associated with the index.\n",
        "    \t\toutput_word = tokenizer.index_word[predicted]\n",
        "\n",
        "\t\t# Combine with the seed text\n",
        "    \t\tseed_text += \" \" + output_word\n",
        "\n",
        "# Print the result\n",
        "    print(seed_text)"
      ]
    },
    {
      "cell_type": "code",
      "execution_count": null,
      "metadata": {
        "id": "zPr9cju3BRam",
        "outputId": "e23c4b9d-0296-49f5-af6a-be87761bb15f"
      },
      "outputs": [
        {
          "name": "stdout",
          "output_type": "stream",
          "text": [
            "hello darkness my old friend the the the the the the the the the the\n"
          ]
        }
      ],
      "source": [
        "seed_text = \"hello darkness my old friend\"\n",
        "generate_lyrics(seed_text, 10)"
      ]
    },
    {
      "cell_type": "code",
      "execution_count": null,
      "metadata": {
        "id": "ye2M7y0FBRam"
      },
      "outputs": [],
      "source": []
    }
  ],
  "metadata": {
    "accelerator": "GPU",
    "colab": {
      "gpuType": "V100",
      "provenance": [],
      "machine_shape": "hm",
      "include_colab_link": true
    },
    "kernelspec": {
      "display_name": "Python 3",
      "name": "python3"
    },
    "language_info": {
      "codemirror_mode": {
        "name": "ipython",
        "version": 3
      },
      "file_extension": ".py",
      "mimetype": "text/x-python",
      "name": "python",
      "nbconvert_exporter": "python",
      "pygments_lexer": "ipython3",
      "version": "3.9.19"
    }
  },
  "nbformat": 4,
  "nbformat_minor": 0
}