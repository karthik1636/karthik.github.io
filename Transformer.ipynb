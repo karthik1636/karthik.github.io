{
 "cells": [
  {
   "cell_type": "code",
   "execution_count": 1,
   "metadata": {
    "id": "3gWw8LxaMaT-"
   },
   "outputs": [],
   "source": [
    "import tensorflow as tf\n",
    "from tensorflow import keras\n",
    "from tensorflow.keras.models import Sequential\n",
    "from tensorflow.keras.layers import *\n",
    "from tensorflow.keras.regularizers import L1, L2\n",
    "from keras.callbacks import EarlyStopping\n",
    "from tensorflow.keras.preprocessing.text import Tokenizer\n",
    "from tensorflow.keras.preprocessing.sequence import pad_sequences\n",
    "from tensorflow.keras.models import Sequential\n",
    "from tensorflow.keras import Model\n",
    "\n",
    "import json\n",
    "import pandas as pd\n",
    "import numpy as np\n",
    "import matplotlib.pyplot as plt\n",
    "from sklearn.model_selection import train_test_split\n",
    "from sklearn.preprocessing import LabelEncoder\n",
    "from sklearn.metrics import confusion_matrix, classification_report\n",
    "import seaborn as sns"
   ]
  },
  {
   "cell_type": "code",
   "execution_count": 2,
   "metadata": {
    "colab": {
     "base_uri": "https://localhost:8080/",
     "height": 206
    },
    "id": "2mLMc1_6Mnij",
    "outputId": "8f5b2bd8-e7a5-44d3-8b0f-1bb3db8e9041"
   },
   "outputs": [
    {
     "data": {
      "text/html": [
       "<div>\n",
       "<style scoped>\n",
       "    .dataframe tbody tr th:only-of-type {\n",
       "        vertical-align: middle;\n",
       "    }\n",
       "\n",
       "    .dataframe tbody tr th {\n",
       "        vertical-align: top;\n",
       "    }\n",
       "\n",
       "    .dataframe thead th {\n",
       "        text-align: right;\n",
       "    }\n",
       "</style>\n",
       "<table border=\"1\" class=\"dataframe\">\n",
       "  <thead>\n",
       "    <tr style=\"text-align: right;\">\n",
       "      <th></th>\n",
       "      <th>text</th>\n",
       "      <th>Emotion</th>\n",
       "    </tr>\n",
       "  </thead>\n",
       "  <tbody>\n",
       "    <tr>\n",
       "      <th>0</th>\n",
       "      <td>i seriously hate one subject to death but now ...</td>\n",
       "      <td>hate</td>\n",
       "    </tr>\n",
       "    <tr>\n",
       "      <th>1</th>\n",
       "      <td>im so full of life i feel appalled</td>\n",
       "      <td>neutral</td>\n",
       "    </tr>\n",
       "    <tr>\n",
       "      <th>2</th>\n",
       "      <td>i sit here to write i start to dig out my feel...</td>\n",
       "      <td>neutral</td>\n",
       "    </tr>\n",
       "    <tr>\n",
       "      <th>3</th>\n",
       "      <td>ive been really angry with r and i feel like a...</td>\n",
       "      <td>anger</td>\n",
       "    </tr>\n",
       "    <tr>\n",
       "      <th>4</th>\n",
       "      <td>i feel suspicious if there is no one outside l...</td>\n",
       "      <td>neutral</td>\n",
       "    </tr>\n",
       "  </tbody>\n",
       "</table>\n",
       "</div>"
      ],
      "text/plain": [
       "                                                text  Emotion\n",
       "0  i seriously hate one subject to death but now ...     hate\n",
       "1                 im so full of life i feel appalled  neutral\n",
       "2  i sit here to write i start to dig out my feel...  neutral\n",
       "3  ive been really angry with r and i feel like a...    anger\n",
       "4  i feel suspicious if there is no one outside l...  neutral"
      ]
     },
     "execution_count": 2,
     "metadata": {},
     "output_type": "execute_result"
    }
   ],
   "source": [
    "df = pd.read_csv(r\"C:\\Users\\danfe\\OneDrive\\Desktop\\School_Work\\MATH 6373\\Project\\emotion_sentiment_dataset.csv\")\n",
    "df = df.drop(df.columns[0], axis = 1)\n",
    "df = df.drop_duplicates()\n",
    "df.head()"
   ]
  },
  {
   "cell_type": "code",
   "execution_count": 3,
   "metadata": {},
   "outputs": [
    {
     "data": {
      "text/html": [
       "<div>\n",
       "<style scoped>\n",
       "    .dataframe tbody tr th:only-of-type {\n",
       "        vertical-align: middle;\n",
       "    }\n",
       "\n",
       "    .dataframe tbody tr th {\n",
       "        vertical-align: top;\n",
       "    }\n",
       "\n",
       "    .dataframe thead th {\n",
       "        text-align: right;\n",
       "    }\n",
       "</style>\n",
       "<table border=\"1\" class=\"dataframe\">\n",
       "  <thead>\n",
       "    <tr style=\"text-align: right;\">\n",
       "      <th></th>\n",
       "      <th>text</th>\n",
       "      <th>Emotion</th>\n",
       "    </tr>\n",
       "  </thead>\n",
       "  <tbody>\n",
       "    <tr>\n",
       "      <th>0</th>\n",
       "      <td>i seriously hate one subject to death but now ...</td>\n",
       "      <td>hate</td>\n",
       "    </tr>\n",
       "    <tr>\n",
       "      <th>1</th>\n",
       "      <td>im so full of life i feel appalled</td>\n",
       "      <td>neutral</td>\n",
       "    </tr>\n",
       "    <tr>\n",
       "      <th>2</th>\n",
       "      <td>i sit here to write i start to dig out my feel...</td>\n",
       "      <td>neutral</td>\n",
       "    </tr>\n",
       "    <tr>\n",
       "      <th>3</th>\n",
       "      <td>ive been really angry with r and i feel like a...</td>\n",
       "      <td>anger</td>\n",
       "    </tr>\n",
       "    <tr>\n",
       "      <th>4</th>\n",
       "      <td>i feel suspicious if there is no one outside l...</td>\n",
       "      <td>neutral</td>\n",
       "    </tr>\n",
       "    <tr>\n",
       "      <th>...</th>\n",
       "      <td>...</td>\n",
       "      <td>...</td>\n",
       "    </tr>\n",
       "    <tr>\n",
       "      <th>422740</th>\n",
       "      <td>i cry and feel a sense of loss when my patient...</td>\n",
       "      <td>neutral</td>\n",
       "    </tr>\n",
       "    <tr>\n",
       "      <th>422741</th>\n",
       "      <td>i feel like telling these horny devils to find...</td>\n",
       "      <td>neutral</td>\n",
       "    </tr>\n",
       "    <tr>\n",
       "      <th>422743</th>\n",
       "      <td>i feel very curious be why previous early dawn...</td>\n",
       "      <td>neutral</td>\n",
       "    </tr>\n",
       "    <tr>\n",
       "      <th>422744</th>\n",
       "      <td>i feel that becuase of the tyranical nature of...</td>\n",
       "      <td>neutral</td>\n",
       "    </tr>\n",
       "    <tr>\n",
       "      <th>422745</th>\n",
       "      <td>i think that after i had spent some time inves...</td>\n",
       "      <td>neutral</td>\n",
       "    </tr>\n",
       "  </tbody>\n",
       "</table>\n",
       "<p>393822 rows × 2 columns</p>\n",
       "</div>"
      ],
      "text/plain": [
       "                                                     text  Emotion\n",
       "0       i seriously hate one subject to death but now ...     hate\n",
       "1                      im so full of life i feel appalled  neutral\n",
       "2       i sit here to write i start to dig out my feel...  neutral\n",
       "3       ive been really angry with r and i feel like a...    anger\n",
       "4       i feel suspicious if there is no one outside l...  neutral\n",
       "...                                                   ...      ...\n",
       "422740  i cry and feel a sense of loss when my patient...  neutral\n",
       "422741  i feel like telling these horny devils to find...  neutral\n",
       "422743  i feel very curious be why previous early dawn...  neutral\n",
       "422744  i feel that becuase of the tyranical nature of...  neutral\n",
       "422745  i think that after i had spent some time inves...  neutral\n",
       "\n",
       "[393822 rows x 2 columns]"
      ]
     },
     "execution_count": 3,
     "metadata": {},
     "output_type": "execute_result"
    }
   ],
   "source": [
    "df"
   ]
  },
  {
   "cell_type": "code",
   "execution_count": 4,
   "metadata": {
    "colab": {
     "base_uri": "https://localhost:8080/"
    },
    "id": "nKn1XpO3Mt9T",
    "outputId": "e4736f2b-1eed-45a2-b81e-6cc78a8f5939"
   },
   "outputs": [
    {
     "name": "stdout",
     "output_type": "stream",
     "text": [
      "Unique emotions: ['hate' 'neutral' 'anger' 'love' 'worry' 'relief' 'happiness' 'fun'\n",
      " 'empty' 'enthusiasm' 'sadness' 'surprise' 'boredom']\n",
      " Number of unique emotions: 13\n"
     ]
    }
   ],
   "source": [
    "print(f\"Unique emotions: {df['Emotion'].unique()}\\n Number of unique emotions: {df['Emotion'].nunique()}\")"
   ]
  },
  {
   "cell_type": "markdown",
   "metadata": {
    "id": "oL9MHOacQOAG"
   },
   "source": [
    "We need to convert our labels into numeric values so the model can work with them"
   ]
  },
  {
   "cell_type": "code",
   "execution_count": 5,
   "metadata": {
    "id": "VbyjQIchPovi"
   },
   "outputs": [],
   "source": [
    "df['Label'], Emotions = pd.factorize(df['Emotion'])"
   ]
  },
  {
   "cell_type": "code",
   "execution_count": 6,
   "metadata": {
    "id": "lLgByIrdM14U"
   },
   "outputs": [],
   "source": [
    "X = df['text']\n",
    "y = df['Label']\n",
    "X_train, X_test, y_train, y_test = train_test_split(X, y, test_size=0.2, random_state=37)"
   ]
  },
  {
   "cell_type": "markdown",
   "metadata": {
    "id": "GetFGyriNtRj"
   },
   "source": [
    "Before we can feed our inputs into the model, we need to convert them into a form the computer can read: numbers. Tensorflow has a tokenizer method built in, which essentially creates a dictionary of words from a series of texts.\n",
    "\n",
    "Once we have all of our tokens, we can transform our lines of text into sequences of tokens which can be fed into the model."
   ]
  },
  {
   "cell_type": "code",
   "execution_count": 7,
   "metadata": {
    "id": "lFmqO_D-NR6J"
   },
   "outputs": [],
   "source": [
    "tokenizer = Tokenizer(num_words = 60000, oov_token = \"<OOV>\")\n",
    "tokenizer.fit_on_texts(X_train)\n",
    "tokenizer.fit_on_texts(X_test)\n",
    "\n",
    "X_train_sequences = tokenizer.texts_to_sequences(X_train)\n",
    "X_test_sequences = tokenizer.texts_to_sequences(X_test)"
   ]
  },
  {
   "cell_type": "markdown",
   "metadata": {
    "id": "XnILLj8gOirJ"
   },
   "source": [
    "Our model expects a uniform input size. To accomplish this we pad the sequences with 0's so that each input is equal in size to our largest input."
   ]
  },
  {
   "cell_type": "code",
   "execution_count": 8,
   "metadata": {
    "colab": {
     "base_uri": "https://localhost:8080/"
    },
    "id": "tiCyjM2iNTrA",
    "outputId": "810c726a-a90c-42b0-df43-4b65af9f88b0"
   },
   "outputs": [
    {
     "name": "stdout",
     "output_type": "stream",
     "text": [
      "Maximum sequence length (maxlen): 178\n"
     ]
    }
   ],
   "source": [
    "maxlen = max(len(tokens) for tokens in X_train_sequences)\n",
    "print(\"Maximum sequence length (maxlen):\", maxlen)\n",
    "\n",
    "X_train_padded = pad_sequences(X_train_sequences, maxlen=maxlen, padding='post')\n",
    "X_test_padded = pad_sequences(X_test_sequences, maxlen=maxlen, padding='post')"
   ]
  },
  {
   "cell_type": "code",
   "execution_count": 9,
   "metadata": {},
   "outputs": [
    {
     "data": {
      "text/plain": [
       "60000"
      ]
     },
     "execution_count": 9,
     "metadata": {},
     "output_type": "execute_result"
    }
   ],
   "source": [
    "np.max(X_train_padded) + 1"
   ]
  },
  {
   "cell_type": "code",
   "execution_count": 10,
   "metadata": {},
   "outputs": [],
   "source": [
    "def positional_encoding(length, depth):\n",
    "  depth = depth/2\n",
    "\n",
    "  positions = np.arange(length)[:, np.newaxis]     # (seq, 1)\n",
    "  depths = np.arange(depth)[np.newaxis, :]/depth   # (1, depth)\n",
    "\n",
    "  angle_rates = 1 / (10000**depths)         # (1, depth)\n",
    "  angle_rads = positions * angle_rates      # (pos, depth)\n",
    "\n",
    "  pos_encoding = np.concatenate(\n",
    "      [np.sin(angle_rads), np.cos(angle_rads)],\n",
    "      axis=-1) \n",
    "\n",
    "  return tf.cast(pos_encoding, dtype=tf.float32)\n",
    "    \n",
    "class PositionalEmbedding(tf.keras.layers.Layer):\n",
    "  def __init__(self, vocab_size, d_model):\n",
    "    super().__init__()\n",
    "    self.d_model = d_model\n",
    "    self.embedding = tf.keras.layers.Embedding(vocab_size, d_model, mask_zero=True) \n",
    "    self.pos_encoding = positional_encoding(length=178, depth=d_model)\n",
    "\n",
    "  def compute_mask(self, *args, **kwargs):\n",
    "    return self.embedding.compute_mask(*args, **kwargs)\n",
    "\n",
    "  def call(self, x):\n",
    "    length = tf.shape(x)[1]\n",
    "    x = self.embedding(x)\n",
    "    # This factor sets the relative scale of the embedding and positonal_encoding.\n",
    "    x *= tf.math.sqrt(tf.cast(self.d_model, tf.float32))\n",
    "    x = x + self.pos_encoding[tf.newaxis, :length, :]\n",
    "    return x"
   ]
  },
  {
   "cell_type": "code",
   "execution_count": 11,
   "metadata": {
    "id": "dMlnpWM0gCBt"
   },
   "outputs": [],
   "source": [
    "class TransformerBlock(Layer):\n",
    "    def __init__(self, embed_dim, num_heads, ff_dim, rate=0.1):\n",
    "        super(TransformerBlock, self).__init__()\n",
    "        self.att = MultiHeadAttention(num_heads=num_heads, key_dim=embed_dim)\n",
    "        self.ffn = Sequential(\n",
    "            [Dense(ff_dim, activation=\"relu\"),\n",
    "             Dense(embed_dim),]\n",
    "        )\n",
    "        self.layernorm1 = LayerNormalization(epsilon=1e-6)\n",
    "        self.layernorm2 = LayerNormalization(epsilon=1e-6)\n",
    "        self.dropout1 = Dropout(rate)\n",
    "        self.dropout2 = Dropout(rate)\n",
    "\n",
    "    def call(self, inputs, training):\n",
    "        attn_output = self.att(inputs, inputs)\n",
    "        attn_output = self.dropout1(attn_output, training=training)\n",
    "        out1 = self.layernorm1(inputs + attn_output)\n",
    "        ffn_output = self.ffn(out1)\n",
    "        ffn_output = self.dropout2(ffn_output, training=training)\n",
    "        return self.layernorm2(out1 + ffn_output)"
   ]
  },
  {
   "cell_type": "code",
   "execution_count": 12,
   "metadata": {
    "id": "Yj3LopM_Gjx5"
   },
   "outputs": [],
   "source": [
    "model = Sequential()\n",
    "model.add(Input(shape=(maxlen,),dtype='float64'))\n",
    "model.add(PositionalEmbedding(vocab_size = np.max(X_train_padded) + 1, d_model = 100))\n",
    "model.add(TransformerBlock(embed_dim = 100, num_heads = 2, ff_dim = 64))\n",
    "model.add(GlobalAveragePooling1D())\n",
    "model.add(Dropout(0.5))\n",
    "model.add(Dense(64, activation='relu',\n",
    "                kernel_regularizer=L1(0.01),\n",
    "                activity_regularizer=L2(0.01)))\n",
    "model.add(Dropout(0.5))\n",
    "model.add(Dense(13, activation='softmax'))"
   ]
  },
  {
   "cell_type": "code",
   "execution_count": 13,
   "metadata": {
    "colab": {
     "base_uri": "https://localhost:8080/"
    },
    "id": "85gzpCFmg5kR",
    "outputId": "75c7a098-a4c2-4ce0-f40c-cbe0763350c3"
   },
   "outputs": [
    {
     "name": "stdout",
     "output_type": "stream",
     "text": [
      "Model: \"sequential\"\n",
      "_________________________________________________________________\n",
      " Layer (type)                Output Shape              Param #   \n",
      "=================================================================\n",
      " positional_embedding (Posit  (None, 178, 100)         6000000   \n",
      " ionalEmbedding)                                                 \n",
      "                                                                 \n",
      " transformer_block (Transfor  (None, 178, 100)         94064     \n",
      " merBlock)                                                       \n",
      "                                                                 \n",
      " global_average_pooling1d (G  (None, 100)              0         \n",
      " lobalAveragePooling1D)                                          \n",
      "                                                                 \n",
      " dropout_2 (Dropout)         (None, 100)               0         \n",
      "                                                                 \n",
      " dense_2 (Dense)             (None, 64)                6464      \n",
      "                                                                 \n",
      " dropout_3 (Dropout)         (None, 64)                0         \n",
      "                                                                 \n",
      " dense_3 (Dense)             (None, 13)                845       \n",
      "                                                                 \n",
      "=================================================================\n",
      "Total params: 6,101,373\n",
      "Trainable params: 6,101,373\n",
      "Non-trainable params: 0\n",
      "_________________________________________________________________\n"
     ]
    }
   ],
   "source": [
    "# Now compile and summarize your model\n",
    "model.compile(optimizer='adam', loss='sparse_categorical_crossentropy', metrics=['accuracy'])\n",
    "model.summary()"
   ]
  },
  {
   "cell_type": "code",
   "execution_count": 14,
   "metadata": {
    "colab": {
     "base_uri": "https://localhost:8080/"
    },
    "id": "igY1dXLANY3n",
    "outputId": "c3aeb528-a0e4-4a06-cfb4-65c09cd8c796"
   },
   "outputs": [
    {
     "name": "stdout",
     "output_type": "stream",
     "text": [
      "Epoch 1/5\n",
      "9846/9846 [==============================] - 160s 16ms/step - loss: 0.4362 - accuracy: 0.9474 - val_loss: 0.1868 - val_accuracy: 0.9937\n",
      "Epoch 2/5\n",
      "9846/9846 [==============================] - 159s 16ms/step - loss: 0.2255 - accuracy: 0.9789 - val_loss: 0.1929 - val_accuracy: 0.9965\n",
      "Epoch 3/5\n",
      "9846/9846 [==============================] - 159s 16ms/step - loss: 0.2069 - accuracy: 0.9834 - val_loss: 0.1715 - val_accuracy: 0.9971\n",
      "Epoch 4/5\n",
      "9846/9846 [==============================] - 161s 16ms/step - loss: 0.1976 - accuracy: 0.9861 - val_loss: 0.1447 - val_accuracy: 0.9977\n",
      "Epoch 5/5\n",
      "9846/9846 [==============================] - 178s 18ms/step - loss: 0.1890 - accuracy: 0.9883 - val_loss: 0.1382 - val_accuracy: 0.9980\n"
     ]
    }
   ],
   "source": [
    "history = model.fit(X_train_padded, y_train, epochs=5, batch_size=32,\n",
    "                    validation_data=(X_test_padded, y_test))"
   ]
  },
  {
   "cell_type": "code",
   "execution_count": 15,
   "metadata": {
    "id": "R9COKw92o3wK"
   },
   "outputs": [],
   "source": [
    "history_dict = history.history\n",
    "json.dump(history_dict, open('transformer_history','w'))"
   ]
  },
  {
   "cell_type": "code",
   "execution_count": 16,
   "metadata": {
    "id": "fkZSVejoNohv"
   },
   "outputs": [
    {
     "name": "stderr",
     "output_type": "stream",
     "text": [
      "WARNING:absl:Found untraced functions such as embedding_layer_call_fn, embedding_layer_call_and_return_conditional_losses, multi_head_attention_layer_call_fn, multi_head_attention_layer_call_and_return_conditional_losses, layer_normalization_layer_call_fn while saving (showing 5 of 24). These functions will not be directly callable after loading.\n"
     ]
    },
    {
     "name": "stdout",
     "output_type": "stream",
     "text": [
      "INFO:tensorflow:Assets written to: Transformer_Model\\assets\n"
     ]
    },
    {
     "name": "stderr",
     "output_type": "stream",
     "text": [
      "INFO:tensorflow:Assets written to: Transformer_Model\\assets\n",
      "C:\\Users\\danfe\\anaconda3\\envs\\Tensor_gpu\\lib\\site-packages\\keras\\engine\\sequential.py:454: CustomMaskWarning: Custom mask layers require a config and must override get_config. When loading, the custom mask layer must be passed to the custom_objects argument.\n",
      "  layer_configs.append(generic_utils.serialize_keras_object(layer))\n",
      "C:\\Users\\danfe\\anaconda3\\envs\\Tensor_gpu\\lib\\site-packages\\keras\\saving\\saved_model\\layer_serialization.py:134: CustomMaskWarning: Custom mask layers require a config and must override get_config. When loading, the custom mask layer must be passed to the custom_objects argument.\n",
      "  return generic_utils.serialize_keras_object(obj)\n"
     ]
    }
   ],
   "source": [
    "model.save('Transformer_Model')"
   ]
  },
  {
   "cell_type": "code",
   "execution_count": 9,
   "metadata": {
    "id": "9G_FyJ3oOOOf"
   },
   "outputs": [],
   "source": [
    "model = tf.keras.models.load_model(r\"C:\\Users\\danfe\\OneDrive\\Desktop\\School_Work\\MATH 6373\\Project\\Transformer\\Transformer_Model\")"
   ]
  },
  {
   "cell_type": "code",
   "execution_count": 10,
   "metadata": {},
   "outputs": [
    {
     "name": "stdout",
     "output_type": "stream",
     "text": [
      "Model: \"sequential\"\n",
      "_________________________________________________________________\n",
      " Layer (type)                Output Shape              Param #   \n",
      "=================================================================\n",
      " embedding (Embedding)       (None, 178, 100)          6000000   \n",
      "                                                                 \n",
      " transformer_block (Transfor  (None, 178, 100)         94064     \n",
      " merBlock)                                                       \n",
      "                                                                 \n",
      " global_average_pooling1d (G  (None, 100)              0         \n",
      " lobalAveragePooling1D)                                          \n",
      "                                                                 \n",
      " dropout_2 (Dropout)         (None, 100)               0         \n",
      "                                                                 \n",
      " dense_2 (Dense)             (None, 64)                6464      \n",
      "                                                                 \n",
      " dropout_3 (Dropout)         (None, 64)                0         \n",
      "                                                                 \n",
      " dense_3 (Dense)             (None, 13)                845       \n",
      "                                                                 \n",
      "=================================================================\n",
      "Total params: 6,101,373\n",
      "Trainable params: 6,101,373\n",
      "Non-trainable params: 0\n",
      "_________________________________________________________________\n"
     ]
    }
   ],
   "source": [
    "model.summary()"
   ]
  },
  {
   "cell_type": "code",
   "execution_count": 18,
   "metadata": {},
   "outputs": [],
   "source": [
    "history = json.load(open(r\"C:\\Users\\danfe\\OneDrive\\Desktop\\School_Work\\MATH 6373\\Project\\Transformer\\transformer_history\",'r'))"
   ]
  },
  {
   "cell_type": "code",
   "execution_count": 19,
   "metadata": {},
   "outputs": [
    {
     "data": {
      "image/png": "[encoded data removed]",
      "text/plain": [
       "<Figure size 600x600 with 2 Axes>"
      ]
     },
     "metadata": {},
     "output_type": "display_data"
    }
   ],
   "source": [
    "best_epoch = history['val_accuracy'].index(max(history['val_accuracy'])) + 1\n",
    "\n",
    "fig, axs = plt.subplots(2, 1, figsize=(6, 6))\n",
    "\n",
    "# Plot training and validation accuracy\n",
    "axs[0].plot(history['accuracy'], label='Training Accuracy', color='blue')\n",
    "axs[0].plot(history['val_accuracy'], label='Validation Accuracy', color='red')\n",
    "axs[0].scatter(best_epoch - 1, history['val_accuracy'][best_epoch - 1], color='green', label=f'Best Epoch: {best_epoch}')\n",
    "axs[0].set_xlabel('Epoch')\n",
    "axs[0].set_ylabel('Accuracy')\n",
    "axs[0].set_title('Training and Validation Accuracy')\n",
    "axs[0].legend()\n",
    "\n",
    "# Plot training and validation loss\n",
    "axs[1].plot(history['loss'], label='Training Loss', color='blue')\n",
    "axs[1].plot(history['val_loss'], label='Validation Loss', color='red')\n",
    "axs[1].scatter(best_epoch - 1, history['val_loss'][best_epoch - 1], color='green',label=f'Best Epoch: {best_epoch}')\n",
    "axs[1].set_xlabel('Epoch')\n",
    "axs[1].set_ylabel('Loss')\n",
    "axs[1].set_title('Training and Validation Loss')\n",
    "axs[1].legend()\n",
    "\n",
    "plt.tight_layout()\n",
    "plt.show()"
   ]
  },
  {
   "cell_type": "code",
   "execution_count": 20,
   "metadata": {},
   "outputs": [
    {
     "name": "stdout",
     "output_type": "stream",
     "text": [
      "2462/2462 [==============================] - 12s 5ms/step\n"
     ]
    }
   ],
   "source": [
    "y_pred = model.predict(X_test_padded)\n",
    "y_pred = np.argmax(y_pred, axis=1)"
   ]
  },
  {
   "cell_type": "code",
   "execution_count": 21,
   "metadata": {},
   "outputs": [
    {
     "name": "stdout",
     "output_type": "stream",
     "text": [
      "              precision    recall  f1-score   support\n",
      "\n",
      "        hate       1.00      0.99      1.00      1206\n",
      "     neutral       1.00      1.00      1.00     63386\n",
      "       anger       0.99      0.99      0.99      1189\n",
      "        love       1.00      0.99      1.00      3541\n",
      "       worry       1.00      0.99      0.99       413\n",
      "      relief       0.99      0.99      0.99      1606\n",
      "   happiness       1.00      0.99      1.00      2621\n",
      "         fun       1.00      0.99      0.99       946\n",
      "       empty       0.99      0.98      0.99       534\n",
      "  enthusiasm       1.00      0.99      1.00       867\n",
      "     sadness       1.00      0.99      0.99      1768\n",
      "    surprise       0.99      1.00      0.99       672\n",
      "     boredom       0.00      0.00      0.00        16\n",
      "\n",
      "    accuracy                           1.00     78765\n",
      "   macro avg       0.92      0.91      0.92     78765\n",
      "weighted avg       1.00      1.00      1.00     78765\n",
      "\n"
     ]
    }
   ],
   "source": [
    "print(classification_report(y_test,y_pred,labels = list(np.arange(13)),target_names = ['hate', 'neutral', 'anger', 'love', 'worry', 'relief', 'happiness', 'fun',\n",
    " 'empty', 'enthusiasm', 'sadness', 'surprise', 'boredom'], zero_division = 0.0))"
   ]
  },
  {
   "cell_type": "code",
   "execution_count": 22,
   "metadata": {},
   "outputs": [
    {
     "data": {
      "image/png": "[encoded data removed]",
      "text/plain": [
       "<Figure size 800x600 with 2 Axes>"
      ]
     },
     "metadata": {},
     "output_type": "display_data"
    }
   ],
   "source": [
    "# y_test and y_pred are your true and predicted labels\n",
    "cm = confusion_matrix(y_test, y_pred)\n",
    "\n",
    "# Plot confusion matrix\n",
    "plt.figure(figsize=(8, 6))\n",
    "sns.heatmap(cm, annot = True, fmt='d', cmap = 'Greens',\n",
    "           xticklabels = ['hate', 'neutral', 'anger', 'love', 'worry', 'relief', 'happiness', 'fun',\n",
    " 'empty', 'enthusiasm', 'sadness', 'surprise', 'boredom'],\n",
    "           yticklabels = ['hate', 'neutral', 'anger', 'love', 'worry', 'relief', 'happiness', 'fun',\n",
    " 'empty', 'enthusiasm', 'sadness', 'surprise', 'boredom']) \n",
    "plt.xlabel('Predicted labels')\n",
    "plt.ylabel('True labels')\n",
    "plt.title('Transformer Confusion Matrix')\n",
    "plt.show()"
   ]
  },
  {
   "cell_type": "code",
   "execution_count": null,
   "metadata": {},
   "outputs": [],
   "source": []
  },
  {
   "cell_type": "markdown",
   "metadata": {},
   "source": [
    "### Generative Model"
   ]
  },
  {
   "cell_type": "code",
   "execution_count": 4,
   "metadata": {},
   "outputs": [],
   "source": [
    "songs = pd.read_csv(r\"C:\\Users\\danfe\\OneDrive\\Desktop\\School_Work\\MATH 6373\\Project\\Song Data\\lyrics-data.csv\")\n",
    "songs_en = songs[songs.language == 'en']\n",
    "songs_en = songs_en[:250]"
   ]
  },
  {
   "cell_type": "code",
   "execution_count": 5,
   "metadata": {
    "scrolled": true
   },
   "outputs": [
    {
     "data": {
      "text/plain": [
       "[2,\n",
       " 63,\n",
       " 22,\n",
       " 2952,\n",
       " 149,\n",
       " 2,\n",
       " 62,\n",
       " 15,\n",
       " 318,\n",
       " 7,\n",
       " 868,\n",
       " 1,\n",
       " 5,\n",
       " 3,\n",
       " 228,\n",
       " 264,\n",
       " 149,\n",
       " 3,\n",
       " 479,\n",
       " 2953,\n",
       " 208,\n",
       " 12,\n",
       " 15,\n",
       " 165,\n",
       " 1326,\n",
       " 5,\n",
       " 133,\n",
       " 9,\n",
       " 2954,\n",
       " 1327,\n",
       " 7,\n",
       " 18,\n",
       " 480,\n",
       " 1007,\n",
       " 2955,\n",
       " 10,\n",
       " 53,\n",
       " 124,\n",
       " 228,\n",
       " 200,\n",
       " 1520,\n",
       " 614,\n",
       " 107,\n",
       " 35,\n",
       " 29,\n",
       " 1008,\n",
       " 517,\n",
       " 36,\n",
       " 438,\n",
       " 5,\n",
       " 680,\n",
       " 2,\n",
       " 27,\n",
       " 40,\n",
       " 61,\n",
       " 9,\n",
       " 467,\n",
       " 1328,\n",
       " 681,\n",
       " 201,\n",
       " 153,\n",
       " 5,\n",
       " 1329,\n",
       " 9,\n",
       " 417,\n",
       " 7,\n",
       " 615,\n",
       " 3,\n",
       " 939,\n",
       " 14,\n",
       " 112,\n",
       " 76,\n",
       " 869,\n",
       " 22,\n",
       " 10,\n",
       " 53,\n",
       " 124,\n",
       " 228,\n",
       " 200,\n",
       " 3,\n",
       " 65,\n",
       " 2,\n",
       " 1330,\n",
       " 31,\n",
       " 1,\n",
       " 55,\n",
       " 38,\n",
       " 53,\n",
       " 2956,\n",
       " 3,\n",
       " 2957,\n",
       " 2958,\n",
       " 26,\n",
       " 9,\n",
       " 84,\n",
       " 417,\n",
       " 5,\n",
       " 3,\n",
       " 157,\n",
       " 7,\n",
       " 133,\n",
       " 2959,\n",
       " 30,\n",
       " 382,\n",
       " 219,\n",
       " 29,\n",
       " 1331,\n",
       " 12,\n",
       " 3,\n",
       " 518,\n",
       " 368,\n",
       " 30,\n",
       " 18,\n",
       " 151,\n",
       " 158,\n",
       " 10,\n",
       " 53,\n",
       " 124,\n",
       " 228,\n",
       " 200,\n",
       " 1520,\n",
       " 614,\n",
       " 107,\n",
       " 35,\n",
       " 29,\n",
       " 1008,\n",
       " 517,\n",
       " 36,\n",
       " 438,\n",
       " 5,\n",
       " 680,\n",
       " 2,\n",
       " 27,\n",
       " 40,\n",
       " 61,\n",
       " 9,\n",
       " 467,\n",
       " 1328,\n",
       " 681,\n",
       " 201,\n",
       " 153,\n",
       " 5,\n",
       " 1329,\n",
       " 9,\n",
       " 417,\n",
       " 7,\n",
       " 615,\n",
       " 23,\n",
       " 939,\n",
       " 14,\n",
       " 112,\n",
       " 76,\n",
       " 869,\n",
       " 22,\n",
       " 10,\n",
       " 53,\n",
       " 124,\n",
       " 228,\n",
       " 200,\n",
       " 3,\n",
       " 65,\n",
       " 2,\n",
       " 1330,\n",
       " 31,\n",
       " 1,\n",
       " 53,\n",
       " 202,\n",
       " 15,\n",
       " 11,\n",
       " 88,\n",
       " 3,\n",
       " 479,\n",
       " 519,\n",
       " 22,\n",
       " 940,\n",
       " 2,\n",
       " 409,\n",
       " 14,\n",
       " 24,\n",
       " 126,\n",
       " 285,\n",
       " 23,\n",
       " 2240,\n",
       " 520,\n",
       " 36,\n",
       " 201,\n",
       " 23,\n",
       " 65,\n",
       " 1521,\n",
       " 229,\n",
       " 568,\n",
       " 329,\n",
       " 31,\n",
       " 3,\n",
       " 166,\n",
       " 1521,\n",
       " 52,\n",
       " 5,\n",
       " 44,\n",
       " 24,\n",
       " 126,\n",
       " 107,\n",
       " 76,\n",
       " 22,\n",
       " 84,\n",
       " 319,\n",
       " 24,\n",
       " 126,\n",
       " 107,\n",
       " 821,\n",
       " 23,\n",
       " 228,\n",
       " 254,\n",
       " 34,\n",
       " 37,\n",
       " 682,\n",
       " 124,\n",
       " 228,\n",
       " 31,\n",
       " 4,\n",
       " 265,\n",
       " 248,\n",
       " 7,\n",
       " 10,\n",
       " 53,\n",
       " 124,\n",
       " 228,\n",
       " 200,\n",
       " 1520,\n",
       " 614,\n",
       " 107,\n",
       " 35,\n",
       " 29,\n",
       " 1008,\n",
       " 517,\n",
       " 36,\n",
       " 438,\n",
       " 5,\n",
       " 680,\n",
       " 2,\n",
       " 27,\n",
       " 40,\n",
       " 61,\n",
       " 9,\n",
       " 467,\n",
       " 1328,\n",
       " 681,\n",
       " 201,\n",
       " 153,\n",
       " 5,\n",
       " 1329,\n",
       " 9,\n",
       " 417,\n",
       " 7,\n",
       " 615,\n",
       " 3,\n",
       " 939,\n",
       " 14,\n",
       " 112,\n",
       " 76,\n",
       " 869,\n",
       " 22,\n",
       " 10,\n",
       " 53,\n",
       " 124,\n",
       " 228,\n",
       " 200,\n",
       " 3,\n",
       " 65,\n",
       " 2,\n",
       " 1330,\n",
       " 31,\n",
       " 1,\n",
       " 37,\n",
       " 14,\n",
       " 40,\n",
       " 259,\n",
       " 37,\n",
       " 14,\n",
       " 40,\n",
       " 259,\n",
       " 37,\n",
       " 14,\n",
       " 40,\n",
       " 259,\n",
       " 50,\n",
       " 2,\n",
       " 2960,\n",
       " 22,\n",
       " 377,\n",
       " 22,\n",
       " 377,\n",
       " 14,\n",
       " 1,\n",
       " 116,\n",
       " 5,\n",
       " 209,\n",
       " 4,\n",
       " 255]"
      ]
     },
     "execution_count": 5,
     "metadata": {},
     "output_type": "execute_result"
    }
   ],
   "source": [
    "tokenizer = Tokenizer()\n",
    "tokenizer.fit_on_texts(songs_en['Lyric'].astype(str).str.lower())\n",
    "\n",
    "total_words = len(tokenizer.word_index)+1\n",
    "tokenized_sentences = tokenizer.texts_to_sequences(songs_en['Lyric'].astype(str))\n",
    "tokenized_sentences[0]"
   ]
  },
  {
   "cell_type": "code",
   "execution_count": 6,
   "metadata": {},
   "outputs": [],
   "source": [
    "# Create n-gram sequences\n",
    "input_sequences = list()\n",
    "for i in tokenized_sentences:\n",
    "    for t in range(1, len(i)):\n",
    "        n_gram_sequence = i[:t+1]\n",
    "        input_sequences.append(n_gram_sequence)\n",
    "        \n",
    "# Pre-padding\n",
    "max_sequence_len = max([len(x) for x in input_sequences])\n",
    "input_sequences = np.array(pad_sequences(input_sequences, maxlen=max_sequence_len, padding='pre'))"
   ]
  },
  {
   "cell_type": "code",
   "execution_count": 7,
   "metadata": {},
   "outputs": [],
   "source": [
    "# Creating predictors and labels\n",
    "X, labels = input_sequences[:,:-1],input_sequences[:,-1]\n",
    "y = tf.keras.utils.to_categorical(labels, num_classes=total_words)"
   ]
  },
  {
   "cell_type": "code",
   "execution_count": 12,
   "metadata": {},
   "outputs": [],
   "source": [
    "model = Sequential()\n",
    "model.add(Embedding(input_dim=total_words, output_dim=100,input_length=max_sequence_len - 1))\n",
    "model.add(TransformerBlock(embed_dim = 100, num_heads = 2, ff_dim = 64))\n",
    "model.add(GlobalAveragePooling1D())\n",
    "model.add(Dropout(0.2))\n",
    "model.add(Dense(total_words, activation='softmax'))"
   ]
  },
  {
   "cell_type": "code",
   "execution_count": 15,
   "metadata": {},
   "outputs": [],
   "source": [
    "model.compile(\n",
    "    loss='categorical_crossentropy', \n",
    "    optimizer=tf.keras.optimizers.Adam(learning_rate=.01), \n",
    "    metrics=['accuracy']\n",
    "    )\n",
    "earlystop = EarlyStopping(monitor='loss', min_delta = 0, patience = 3, verbose = 0, mode='auto')"
   ]
  },
  {
   "cell_type": "code",
   "execution_count": 16,
   "metadata": {},
   "outputs": [
    {
     "name": "stdout",
     "output_type": "stream",
     "text": [
      "Epoch 1/10\n",
      "2972/2972 [==============================] - 310s 103ms/step - loss: 6.2141 - accuracy: 0.0473\n",
      "Epoch 2/10\n",
      "2972/2972 [==============================] - 308s 104ms/step - loss: 5.8552 - accuracy: 0.0564\n",
      "Epoch 3/10\n",
      "2972/2972 [==============================] - 308s 104ms/step - loss: 5.6226 - accuracy: 0.0631\n",
      "Epoch 4/10\n",
      "2972/2972 [==============================] - 305s 103ms/step - loss: 5.4442 - accuracy: 0.0676\n",
      "Epoch 5/10\n",
      "2972/2972 [==============================] - 304s 102ms/step - loss: 5.3066 - accuracy: 0.0692\n",
      "Epoch 6/10\n",
      "2972/2972 [==============================] - 303s 102ms/step - loss: 5.1944 - accuracy: 0.0734\n",
      "Epoch 7/10\n",
      "2972/2972 [==============================] - 306s 103ms/step - loss: 5.0997 - accuracy: 0.0745\n",
      "Epoch 8/10\n",
      "2972/2972 [==============================] - 304s 102ms/step - loss: 5.0244 - accuracy: 0.0761\n",
      "Epoch 9/10\n",
      "2972/2972 [==============================] - 309s 104ms/step - loss: 4.9555 - accuracy: 0.0777\n",
      "Epoch 10/10\n",
      "2972/2972 [==============================] - 337s 113ms/step - loss: 4.9009 - accuracy: 0.0793\n"
     ]
    }
   ],
   "source": [
    "history = model.fit(X,y, epochs = 10, verbose = 1, callbacks = [earlystop])"
   ]
  },
  {
   "cell_type": "code",
   "execution_count": 21,
   "metadata": {},
   "outputs": [],
   "source": [
    "def generate_lyrics(seed_text, next_words):\n",
    "    for _ in range(next_words):\n",
    "        token_list = tokenizer.texts_to_sequences([seed_text])[0]\n",
    "        token_list = pad_sequences([token_list], maxlen=max_sequence_len-1, padding='pre')\n",
    "        predictions = model.predict(token_list, verbose=0)\n",
    "        choice = np.random.choice([1,2,3])\n",
    "        # sort ascending and select from 3 highest probabilities\n",
    "        predicted = np.argsort(predictions)[0][-choice]\n",
    "        \n",
    "        output_word = \"\"\n",
    "        for word, index in tokenizer.word_index.items():\n",
    "            if index == predicted:\n",
    "                output_word = word\n",
    "                break\n",
    "        seed_text += \" \" + output_word\n",
    "    return seed_text"
   ]
  },
  {
   "cell_type": "code",
   "execution_count": 23,
   "metadata": {},
   "outputs": [],
   "source": [
    "def generate_lyrics(seed_text, next_words):\n",
    "    # Loop until desired length is reached\n",
    "    for _ in range(next_words):\n",
    "\n",
    "\t# Convert the seed text to a token sequence\n",
    "    \ttoken_list = tokenizer.texts_to_sequences([seed_text])[0]\n",
    "\n",
    "\t# Pad the sequence\n",
    "    \ttoken_list = pad_sequences([token_list], maxlen=max_sequence_len-1, padding='pre')\n",
    "\t\n",
    "\t# Feed to the model and get the probabilities for each index\n",
    "    \tprobabilities = model.predict(token_list, verbose=0)\n",
    "\n",
    "\t# Get the index with the highest probability\n",
    "    \tpredicted = np.argmax(probabilities, axis=-1)[0]\n",
    "\n",
    "\t# Ignore if index is 0 because that is just the padding.\n",
    "    \tif predicted != 0:\n",
    "\t\t\n",
    "\t\t# Look up the word associated with the index. \n",
    "    \t\toutput_word = tokenizer.index_word[predicted]\n",
    "\n",
    "\t\t# Combine with the seed text\n",
    "    \t\tseed_text += \" \" + output_word\n",
    "\n",
    "# Print the result\t\n",
    "    print(seed_text)"
   ]
  },
  {
   "cell_type": "code",
   "execution_count": 24,
   "metadata": {},
   "outputs": [
    {
     "name": "stdout",
     "output_type": "stream",
     "text": [
      "hello darkness my old friend the the the the the the the the the the\n"
     ]
    }
   ],
   "source": [
    "seed_text = \"hello darkness my old friend\"\n",
    "generate_lyrics(seed_text, 10)"
   ]
  },
  {
   "cell_type": "code",
   "execution_count": null,
   "metadata": {},
   "outputs": [],
   "source": []
  }
 ],
 "metadata": {
  "accelerator": "GPU",
  "colab": {
   "gpuType": "T4",
   "provenance": []
  },
  "kernelspec": {
   "display_name": "Python 3 (ipykernel)",
   "language": "python",
   "name": "python3"
  },
  "language_info": {
   "codemirror_mode": {
    "name": "ipython",
    "version": 3
   },
   "file_extension": ".py",
   "mimetype": "text/x-python",
   "name": "python",
   "nbconvert_exporter": "python",
   "pygments_lexer": "ipython3",
   "version": "3.9.19"
  }
 },
 "nbformat": 4,
 "nbformat_minor": 4
}
