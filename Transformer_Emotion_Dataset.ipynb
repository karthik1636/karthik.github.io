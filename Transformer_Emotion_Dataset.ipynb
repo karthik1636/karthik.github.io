{
  "nbformat": 4,
  "nbformat_minor": 0,
  "metadata": {
    "colab": {
      "provenance": [],
      "machine_shape": "hm",
      "gpuType": "A100",
      "authorship_tag": "ABX9TyPJmBWwTqNWcedrY8kLoce2",
      "include_colab_link": true
    },
    "kernelspec": {
      "name": "python3",
      "display_name": "Python 3"
    },
    "language_info": {
      "name": "python"
    },
    "accelerator": "GPU"
  },
  "cells": [
    {
      "cell_type": "markdown",
      "metadata": {
        "id": "view-in-github",
        "colab_type": "text"
      },
      "source": [
        "<a href=\"https://colab.research.google.com/github/karthik1636/karthik.github.io/blob/main/Transformer_Emotion_Dataset.ipynb\" target=\"_parent\"><img src=\"https://colab.research.google.com/assets/colab-badge.svg\" alt=\"Open In Colab\"/></a>"
      ]
    },
    {
      "cell_type": "markdown",
      "source": [
        "**Step 1: Loading and Preparing the Dataset**"
      ],
      "metadata": {
        "id": "7dddRFV4PI5u"
      }
    },
    {
      "cell_type": "code",
      "source": [
        "!nvidia-smi"
      ],
      "metadata": {
        "colab": {
          "base_uri": "https://localhost:8080/"
        },
        "id": "BvGvPmMgQ46c",
        "outputId": "b477381e-ad93-4a5c-9ed3-d7beabe5875b"
      },
      "execution_count": 8,
      "outputs": [
        {
          "output_type": "stream",
          "name": "stdout",
          "text": [
            "Sat Apr 13 21:09:33 2024       \n",
            "+---------------------------------------------------------------------------------------+\n",
            "| NVIDIA-SMI 535.104.05             Driver Version: 535.104.05   CUDA Version: 12.2     |\n",
            "|-----------------------------------------+----------------------+----------------------+\n",
            "| GPU  Name                 Persistence-M | Bus-Id        Disp.A | Volatile Uncorr. ECC |\n",
            "| Fan  Temp   Perf          Pwr:Usage/Cap |         Memory-Usage | GPU-Util  Compute M. |\n",
            "|                                         |                      |               MIG M. |\n",
            "|=========================================+======================+======================|\n",
            "|   0  NVIDIA A100-SXM4-40GB          Off | 00000000:00:04.0 Off |                    0 |\n",
            "| N/A   31C    P0              49W / 400W |    591MiB / 40960MiB |      0%      Default |\n",
            "|                                         |                      |             Disabled |\n",
            "+-----------------------------------------+----------------------+----------------------+\n",
            "                                                                                         \n",
            "+---------------------------------------------------------------------------------------+\n",
            "| Processes:                                                                            |\n",
            "|  GPU   GI   CI        PID   Type   Process name                            GPU Memory |\n",
            "|        ID   ID                                                             Usage      |\n",
            "|=======================================================================================|\n",
            "+---------------------------------------------------------------------------------------+\n"
          ]
        }
      ]
    },
    {
      "cell_type": "code",
      "execution_count": 9,
      "metadata": {
        "colab": {
          "base_uri": "https://localhost:8080/"
        },
        "id": "lGQ49sJOOXfZ",
        "outputId": "0a606f17-2e21-4e37-cedd-1876dd452810"
      },
      "outputs": [
        {
          "output_type": "stream",
          "name": "stdout",
          "text": [
            "   Unnamed: 0                                               text  Emotion\n",
            "0           0  i seriously hate one subject to death but now ...     hate\n",
            "1           1                 im so full of life i feel appalled  neutral\n",
            "2           2  i sit here to write i start to dig out my feel...  neutral\n",
            "3           3  ive been really angry with r and i feel like a...    anger\n",
            "4           4  i feel suspicious if there is no one outside l...  neutral\n"
          ]
        }
      ],
      "source": [
        "import pandas as pd\n",
        "from sklearn.model_selection import train_test_split\n",
        "from tensorflow.keras.preprocessing.text import Tokenizer\n",
        "from tensorflow.keras.preprocessing.sequence import pad_sequences\n",
        "from sklearn.preprocessing import LabelEncoder\n",
        "\n",
        "# Loading the dataset\n",
        "data = pd.read_csv('emotion_sentimen_dataset.csv')\n",
        "\n",
        "# Displaying the first few rows of the dataframe\n",
        "print(data.head())\n",
        "\n",
        "# Preprocessing the text\n",
        "\n",
        "# Encodeing the labels\n",
        "label_encoder = LabelEncoder()\n",
        "data['label'] = label_encoder.fit_transform(data['Emotion'])\n",
        "\n",
        "# Preparing text data\n",
        "tokenizer = Tokenizer(num_words=10000)\n",
        "tokenizer.fit_on_texts(data['text'])\n",
        "sequences = tokenizer.texts_to_sequences(data['text'])\n",
        "maxlen = 178  # seting this to the max length that is found\n",
        "\n",
        "# Padding\n",
        "X = pad_sequences(sequences, maxlen=maxlen)\n",
        "\n",
        "# Labels\n",
        "y = data['label']\n",
        "\n",
        "# Splitting the data\n",
        "X_train, X_test, y_train, y_test = train_test_split(X, y, test_size=0.2, random_state=42)\n"
      ]
    },
    {
      "cell_type": "markdown",
      "source": [
        "**Step 2: Defining the Transformer Model**"
      ],
      "metadata": {
        "id": "N61sxsaUPVNs"
      }
    },
    {
      "cell_type": "code",
      "source": [
        "import tensorflow as tf\n",
        "from tensorflow.keras.models import Sequential\n",
        "from tensorflow.keras.layers import Embedding, Dropout, GlobalAveragePooling1D, Dense\n",
        "from tensorflow.keras.optimizers import Adam\n",
        "\n",
        "# Parameters\n",
        "vocab_size = 10000  # as used in the tokenizer\n",
        "embed_dim = 32  # embedding dimension\n",
        "num_heads = 2  # number of attention heads\n",
        "ff_dim = 64  # hidden layer size in feed forward network inside transformer\n",
        "\n",
        "class TransformerBlock(tf.keras.layers.Layer):\n",
        "    def __init__(self, embed_dim, num_heads, ff_dim, rate=0.1):\n",
        "        super(TransformerBlock, self).__init__()\n",
        "        self.att = tf.keras.layers.MultiHeadAttention(num_heads=num_heads, key_dim=embed_dim)\n",
        "        self.ffn = tf.keras.Sequential([\n",
        "            tf.keras.layers.Dense(ff_dim, activation=\"relu\"),\n",
        "            tf.keras.layers.Dense(embed_dim),\n",
        "        ])\n",
        "        self.layernorm1 = tf.keras.layers.LayerNormalization(epsilon=1e-6)\n",
        "        self.layernorm2 = tf.keras.layers.LayerNormalization(epsilon=1e-6)\n",
        "        self.dropout1 = tf.keras.layers.Dropout(rate)\n",
        "        self.dropout2 = tf.keras.layers.Dropout(rate)\n",
        "\n",
        "    def call(self, inputs, training):\n",
        "        attn_output = self.att(inputs, inputs)\n",
        "        attn_output = self.dropout1(attn_output, training=training)\n",
        "        out1 = self.layernorm1(inputs + attn_output)\n",
        "        ffn_output = self.ffn(out1)\n",
        "        ffn_output = self.dropout2(ffn_output, training=training)\n",
        "        return self.layernorm2(out1 + ffn_output)\n",
        "\n",
        "class TokenAndPositionEmbedding(tf.keras.layers.Layer):\n",
        "    def __init__(self, maxlen, vocab_size, embed_dim):\n",
        "        super(TokenAndPositionEmbedding, self).__init__()\n",
        "        self.token_emb = Embedding(input_dim=vocab_size, output_dim=embed_dim)\n",
        "        self.pos_emb = Embedding(input_dim=maxlen, output_dim=embed_dim)\n",
        "\n",
        "    def call(self, x):\n",
        "        maxlen = tf.shape(x)[-1]\n",
        "        positions = tf.range(start=0, limit=maxlen, delta=1)\n",
        "        positions = self.pos_emb(positions)\n",
        "        x = self.token_emb(x)\n",
        "        return x + positions\n",
        "\n",
        "model = Sequential([\n",
        "    TokenAndPositionEmbedding(maxlen, vocab_size, embed_dim),\n",
        "    TransformerBlock(embed_dim, num_heads, ff_dim),\n",
        "    GlobalAveragePooling1D(),\n",
        "    Dropout(0.1),\n",
        "    Dense(64, activation='relu'),\n",
        "    Dropout(0.1),\n",
        "    Dense(len(label_encoder.classes_), activation='softmax')\n",
        "])\n",
        "\n",
        "# Compiling the model\n",
        "model.compile(optimizer=Adam(), loss='sparse_categorical_crossentropy', metrics=['accuracy'])\n"
      ],
      "metadata": {
        "id": "XuLKv3dAOrqH"
      },
      "execution_count": 10,
      "outputs": []
    },
    {
      "cell_type": "markdown",
      "source": [
        "**Step 3: Training the Model**"
      ],
      "metadata": {
        "id": "RZ-dULKrPZ97"
      }
    },
    {
      "cell_type": "code",
      "source": [
        "history = model.fit(\n",
        "    X_train, y_train,\n",
        "    epochs=10,\n",
        "    batch_size=32,\n",
        "    validation_data=(X_test, y_test)\n",
        ")\n"
      ],
      "metadata": {
        "colab": {
          "base_uri": "https://localhost:8080/"
        },
        "id": "hV6FVA33PCYV",
        "outputId": "9c0431bc-f9be-4fb0-ced3-f515aee177d2"
      },
      "execution_count": 11,
      "outputs": [
        {
          "output_type": "stream",
          "name": "stdout",
          "text": [
            "Epoch 1/10\n",
            "20989/20989 [==============================] - 178s 8ms/step - loss: 0.0641 - accuracy: 0.9892 - val_loss: 0.0263 - val_accuracy: 0.9967\n",
            "Epoch 2/10\n",
            "20989/20989 [==============================] - 156s 7ms/step - loss: 0.0259 - accuracy: 0.9967 - val_loss: 0.0246 - val_accuracy: 0.9969\n",
            "Epoch 3/10\n",
            "20989/20989 [==============================] - 156s 7ms/step - loss: 0.0223 - accuracy: 0.9970 - val_loss: 0.0233 - val_accuracy: 0.9969\n",
            "Epoch 4/10\n",
            "20989/20989 [==============================] - 156s 7ms/step - loss: 0.0194 - accuracy: 0.9972 - val_loss: 0.0223 - val_accuracy: 0.9973\n",
            "Epoch 5/10\n",
            "20989/20989 [==============================] - 155s 7ms/step - loss: 0.0176 - accuracy: 0.9973 - val_loss: 0.0209 - val_accuracy: 0.9972\n",
            "Epoch 6/10\n",
            "20989/20989 [==============================] - 155s 7ms/step - loss: 0.0158 - accuracy: 0.9975 - val_loss: 0.0212 - val_accuracy: 0.9974\n",
            "Epoch 7/10\n",
            "20989/20989 [==============================] - 155s 7ms/step - loss: 0.0142 - accuracy: 0.9976 - val_loss: 0.0214 - val_accuracy: 0.9974\n",
            "Epoch 8/10\n",
            "20989/20989 [==============================] - 155s 7ms/step - loss: 0.0134 - accuracy: 0.9977 - val_loss: 0.0206 - val_accuracy: 0.9975\n",
            "Epoch 9/10\n",
            "20989/20989 [==============================] - 155s 7ms/step - loss: 0.0125 - accuracy: 0.9978 - val_loss: 0.0203 - val_accuracy: 0.9975\n",
            "Epoch 10/10\n",
            "20989/20989 [==============================] - 155s 7ms/step - loss: 0.0120 - accuracy: 0.9979 - val_loss: 0.0196 - val_accuracy: 0.9975\n"
          ]
        }
      ]
    },
    {
      "cell_type": "markdown",
      "source": [
        "**Step 4: Evaluating the Model**"
      ],
      "metadata": {
        "id": "e4v37IZcPg4M"
      }
    },
    {
      "cell_type": "code",
      "source": [
        "# Evaluating the model on the test set\n",
        "test_loss, test_acc = model.evaluate(X_test, y_test, verbose=2)\n",
        "print(f\"Test accuracy: {test_acc*100:.2f}%, Test loss: {test_loss:.2f}\")\n"
      ],
      "metadata": {
        "colab": {
          "base_uri": "https://localhost:8080/"
        },
        "id": "RJN9GnDRPGFY",
        "outputId": "c86f57f8-7aae-4dda-be1b-653a5f7b9e20"
      },
      "execution_count": 6,
      "outputs": [
        {
          "output_type": "stream",
          "name": "stdout",
          "text": [
            "528/528 - 1s - loss: 0.0501 - accuracy: 0.9960 - 1s/epoch - 2ms/step\n",
            "Test accuracy: 99.60%, Test loss: 0.05\n"
          ]
        }
      ]
    },
    {
      "cell_type": "markdown",
      "source": [
        "Plotting the Results"
      ],
      "metadata": {
        "id": "FHKAmh8BPqvl"
      }
    },
    {
      "cell_type": "code",
      "source": [
        "import matplotlib.pyplot as plt\n",
        "\n",
        "def plot_history(history):\n",
        "    acc = history.history['accuracy']\n",
        "    val_acc = history.history['val_accuracy']\n",
        "    loss = history.history['loss']\n",
        "    val_loss = history.history['val_loss']\n",
        "    epochs = range(1, len(acc) + 1)\n",
        "\n",
        "    # Plotting the accuracy\n",
        "    plt.figure(figsize=(12, 6))\n",
        "    plt.subplot(1, 2, 1)\n",
        "    plt.plot(epochs, acc, 'bo', label='Training acc')\n",
        "    plt.plot(epochs, val_acc, 'b', label='Validation acc')\n",
        "    plt.title('Training and validation accuracy')\n",
        "    plt.legend()\n",
        "\n",
        "    # Plotting the loss\n",
        "    plt.subplot(1, 2, 2)\n",
        "    plt.plot(epochs, loss, 'ro', label='Training loss')\n",
        "    plt.plot(epochs, val_loss, 'r', label='Validation loss')\n",
        "    plt.title('Training and validation loss')\n",
        "    plt.legend()\n",
        "\n",
        "    plt.show()\n",
        "\n",
        "# Calling the function with the history from the model training\n",
        "plot_history(history)\n"
      ],
      "metadata": {
        "colab": {
          "base_uri": "https://localhost:8080/",
          "height": 565
        },
        "id": "03bdpi9HPHkA",
        "outputId": "6bab5f7d-3da3-4fb9-e0aa-5d4ff39d9bb9"
      },
      "execution_count": 7,
      "outputs": [
        {
          "output_type": "display_data",
          "data": {
            "text/plain": [
              "<Figure size 1200x600 with 2 Axes>"
            ],
            "image/png": "[encoded data removed]"
          },
          "metadata": {}
        }
      ]
    }
  ]
}